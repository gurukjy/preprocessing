{
  "nbformat": 4,
  "nbformat_minor": 0,
  "metadata": {
    "colab": {
      "name": "03 판다스 데이터프레임 탐색.ipynb",
      "provenance": [],
      "collapsed_sections": [],
      "include_colab_link": true
    },
    "kernelspec": {
      "display_name": "Python 3",
      "language": "python",
      "name": "python3"
    },
    "language_info": {
      "codemirror_mode": {
        "name": "ipython",
        "version": 3
      },
      "file_extension": ".py",
      "mimetype": "text/x-python",
      "name": "python",
      "nbconvert_exporter": "python",
      "pygments_lexer": "ipython3",
      "version": "3.7.6"
    }
  },
  "cells": [
    {
      "cell_type": "markdown",
      "metadata": {
        "id": "view-in-github",
        "colab_type": "text"
      },
      "source": [
        "<a href=\"https://colab.research.google.com/github/gurukjy/preprocessing/blob/main/03_%ED%8C%90%EB%8B%A4%EC%8A%A4_%EB%8D%B0%EC%9D%B4%ED%84%B0%ED%94%84%EB%A0%88%EC%9E%84_%ED%83%90%EC%83%89.ipynb\" target=\"_parent\"><img src=\"https://colab.research.google.com/assets/colab-badge.svg\" alt=\"Open In Colab\"/></a>"
      ]
    },
    {
      "cell_type": "markdown",
      "metadata": {
        "id": "BFhIXgdYoYGp"
      },
      "source": [
        "<center><img src='https://raw.githubusercontent.com/Jangrae/img/master/title.png' width=500/></center>"
      ]
    },
    {
      "cell_type": "markdown",
      "metadata": {
        "id": "DFijIAllYnVQ"
      },
      "source": [
        "# 학습 목표\n",
        "\n",
        "- 다양한 메소드와 속성을 통해 데이터를 이해할 수 있습니다.\n",
        "- 결측치(NaN값) 존재 여부를 확인할 수 있습니다.\n",
        "- 기초 통계 정보를 확인할 수 있습니다.\n",
        "- 원하는 순서로 정렬해 데이터를 확인할 수 있습니다.\n",
        "- 기본적인 집계 함수를 사용해 데이터를 이해할 수 있습니다."
      ]
    },
    {
      "cell_type": "markdown",
      "metadata": {
        "id": "-sdzPN0Uwxi2"
      },
      "source": [
        "# 3. 데이터프레임 탐색"
      ]
    },
    {
      "cell_type": "markdown",
      "metadata": {
        "id": "-RYoYWk-YnVc"
      },
      "source": [
        "- 파일에서 불러온 데이터의 크기, 내용, 분포, 누락된 값 등을 확인할 수 있어야 합니다.\n",
        "- 확인된 내용을 통해 데이터 전처리 필요 여부를 결정합니다.\n",
        "- 데이터를 알아야 데이터를 분석할 수 있습니다."
      ]
    },
    {
      "cell_type": "code",
      "metadata": {
        "id": "siCMN2lzSelq"
      },
      "source": [
        "# 라이브러리 불러오기\n",
        "import pandas as pd\n",
        "import numpy as np\n",
        "import matplotlib.pyplot as plt\n",
        "\n",
        "%config InlineBackend.figure_format='retina'"
      ],
      "execution_count": 2,
      "outputs": []
    },
    {
      "cell_type": "code",
      "metadata": {
        "id": "i-hbJbQnH_tC",
        "colab": {
          "base_uri": "https://localhost:8080/",
          "height": 198
        },
        "outputId": "4aafc3ea-fea7-47de-ebee-ae6c4d6d4c48"
      },
      "source": [
        "# Titanic 데이터 불러오기\n",
        "file_path = 'https://raw.githubusercontent.com/Jangrae/csv/master/titanic_simple.csv'\n",
        "titanic = pd.read_csv(file_path, sep=',')  \n",
        "titanic.head()"
      ],
      "execution_count": 3,
      "outputs": [
        {
          "output_type": "execute_result",
          "data": {
            "text/html": [
              "<div>\n",
              "<style scoped>\n",
              "    .dataframe tbody tr th:only-of-type {\n",
              "        vertical-align: middle;\n",
              "    }\n",
              "\n",
              "    .dataframe tbody tr th {\n",
              "        vertical-align: top;\n",
              "    }\n",
              "\n",
              "    .dataframe thead th {\n",
              "        text-align: right;\n",
              "    }\n",
              "</style>\n",
              "<table border=\"1\" class=\"dataframe\">\n",
              "  <thead>\n",
              "    <tr style=\"text-align: right;\">\n",
              "      <th></th>\n",
              "      <th>PassengerId</th>\n",
              "      <th>Survived</th>\n",
              "      <th>Pclass</th>\n",
              "      <th>Name</th>\n",
              "      <th>Sex</th>\n",
              "      <th>Age</th>\n",
              "      <th>Fare</th>\n",
              "      <th>Embarked</th>\n",
              "    </tr>\n",
              "  </thead>\n",
              "  <tbody>\n",
              "    <tr>\n",
              "      <th>0</th>\n",
              "      <td>1</td>\n",
              "      <td>0</td>\n",
              "      <td>3</td>\n",
              "      <td>Braund, Mr. Owen Harris</td>\n",
              "      <td>male</td>\n",
              "      <td>22.0</td>\n",
              "      <td>7.2500</td>\n",
              "      <td>Southhampton</td>\n",
              "    </tr>\n",
              "    <tr>\n",
              "      <th>1</th>\n",
              "      <td>2</td>\n",
              "      <td>1</td>\n",
              "      <td>1</td>\n",
              "      <td>Cumings, Mrs. John Bradley (Florence Briggs Th...</td>\n",
              "      <td>female</td>\n",
              "      <td>38.0</td>\n",
              "      <td>71.2833</td>\n",
              "      <td>Cherbourg</td>\n",
              "    </tr>\n",
              "    <tr>\n",
              "      <th>2</th>\n",
              "      <td>3</td>\n",
              "      <td>1</td>\n",
              "      <td>3</td>\n",
              "      <td>Heikkinen, Miss. Laina</td>\n",
              "      <td>female</td>\n",
              "      <td>26.0</td>\n",
              "      <td>7.9250</td>\n",
              "      <td>Southhampton</td>\n",
              "    </tr>\n",
              "    <tr>\n",
              "      <th>3</th>\n",
              "      <td>4</td>\n",
              "      <td>1</td>\n",
              "      <td>1</td>\n",
              "      <td>Futrelle, Mrs. Jacques Heath (Lily May Peel)</td>\n",
              "      <td>female</td>\n",
              "      <td>35.0</td>\n",
              "      <td>53.1000</td>\n",
              "      <td>Southhampton</td>\n",
              "    </tr>\n",
              "    <tr>\n",
              "      <th>4</th>\n",
              "      <td>5</td>\n",
              "      <td>0</td>\n",
              "      <td>3</td>\n",
              "      <td>Allen, Mr. William Henry</td>\n",
              "      <td>male</td>\n",
              "      <td>35.0</td>\n",
              "      <td>8.0500</td>\n",
              "      <td>Southhampton</td>\n",
              "    </tr>\n",
              "  </tbody>\n",
              "</table>\n",
              "</div>"
            ],
            "text/plain": [
              "   PassengerId  Survived  Pclass  ...   Age     Fare      Embarked\n",
              "0            1         0       3  ...  22.0   7.2500  Southhampton\n",
              "1            2         1       1  ...  38.0  71.2833     Cherbourg\n",
              "2            3         1       3  ...  26.0   7.9250  Southhampton\n",
              "3            4         1       1  ...  35.0  53.1000  Southhampton\n",
              "4            5         0       3  ...  35.0   8.0500  Southhampton\n",
              "\n",
              "[5 rows x 8 columns]"
            ]
          },
          "metadata": {
            "tags": []
          },
          "execution_count": 3
        }
      ]
    },
    {
      "cell_type": "markdown",
      "metadata": {
        "id": "pYIMdO6BeBaH"
      },
      "source": [
        "**[참고] 우선 익숙해져야 할 것들**\n",
        "\n",
        "- head(): 상위 데이터 확인\n",
        "- tail(): 하위 데이터 확인\n",
        "- shape: 데이터프레임 크기\n",
        "- index: 인덱스 정보 확인\n",
        "- values: 값 정보 확인\n",
        "- columns: 열 정보 확인\n",
        "- dtypes: 열 자료형 확인\n",
        "- info(): 열에 대한 상세한 정보 확인\n",
        "- describe(): 기초통계정보 확인\n",
        "\n",
        "※ **열 정보와 관련된 columns, info()는 시리즈에 대해서는 사용할 수 없습니다.**\n"
      ]
    },
    {
      "cell_type": "markdown",
      "metadata": {
        "id": "ut-2PJEa3ES4"
      },
      "source": [
        "## 3.1. 앞, 뒤 일부 데이터, 크기 확인\n",
        "\n",
        "- **head(*n*), tail(*n*)** 메소드를 사용해 앞 뒤 데이터를 확인합니다.\n",
        "- 개수를 지정하지 않으면 기본적으로 5개 행이 조회됩니다."
      ]
    },
    {
      "cell_type": "markdown",
      "metadata": {
        "id": "xifu7T7TsCYu"
      },
      "source": [
        "**1) 앞쪽 데이터 확인**"
      ]
    },
    {
      "cell_type": "code",
      "metadata": {
        "id": "3V0T5qwfYnVd",
        "scrolled": true,
        "colab": {
          "base_uri": "https://localhost:8080/",
          "height": 198
        },
        "outputId": "9be9b4a4-858f-4138-b313-5c50015f59a1"
      },
      "source": [
        "# 첫 5개 행 데이터\n",
        "titanic.head()"
      ],
      "execution_count": 4,
      "outputs": [
        {
          "output_type": "execute_result",
          "data": {
            "text/html": [
              "<div>\n",
              "<style scoped>\n",
              "    .dataframe tbody tr th:only-of-type {\n",
              "        vertical-align: middle;\n",
              "    }\n",
              "\n",
              "    .dataframe tbody tr th {\n",
              "        vertical-align: top;\n",
              "    }\n",
              "\n",
              "    .dataframe thead th {\n",
              "        text-align: right;\n",
              "    }\n",
              "</style>\n",
              "<table border=\"1\" class=\"dataframe\">\n",
              "  <thead>\n",
              "    <tr style=\"text-align: right;\">\n",
              "      <th></th>\n",
              "      <th>PassengerId</th>\n",
              "      <th>Survived</th>\n",
              "      <th>Pclass</th>\n",
              "      <th>Name</th>\n",
              "      <th>Sex</th>\n",
              "      <th>Age</th>\n",
              "      <th>Fare</th>\n",
              "      <th>Embarked</th>\n",
              "    </tr>\n",
              "  </thead>\n",
              "  <tbody>\n",
              "    <tr>\n",
              "      <th>0</th>\n",
              "      <td>1</td>\n",
              "      <td>0</td>\n",
              "      <td>3</td>\n",
              "      <td>Braund, Mr. Owen Harris</td>\n",
              "      <td>male</td>\n",
              "      <td>22.0</td>\n",
              "      <td>7.2500</td>\n",
              "      <td>Southhampton</td>\n",
              "    </tr>\n",
              "    <tr>\n",
              "      <th>1</th>\n",
              "      <td>2</td>\n",
              "      <td>1</td>\n",
              "      <td>1</td>\n",
              "      <td>Cumings, Mrs. John Bradley (Florence Briggs Th...</td>\n",
              "      <td>female</td>\n",
              "      <td>38.0</td>\n",
              "      <td>71.2833</td>\n",
              "      <td>Cherbourg</td>\n",
              "    </tr>\n",
              "    <tr>\n",
              "      <th>2</th>\n",
              "      <td>3</td>\n",
              "      <td>1</td>\n",
              "      <td>3</td>\n",
              "      <td>Heikkinen, Miss. Laina</td>\n",
              "      <td>female</td>\n",
              "      <td>26.0</td>\n",
              "      <td>7.9250</td>\n",
              "      <td>Southhampton</td>\n",
              "    </tr>\n",
              "    <tr>\n",
              "      <th>3</th>\n",
              "      <td>4</td>\n",
              "      <td>1</td>\n",
              "      <td>1</td>\n",
              "      <td>Futrelle, Mrs. Jacques Heath (Lily May Peel)</td>\n",
              "      <td>female</td>\n",
              "      <td>35.0</td>\n",
              "      <td>53.1000</td>\n",
              "      <td>Southhampton</td>\n",
              "    </tr>\n",
              "    <tr>\n",
              "      <th>4</th>\n",
              "      <td>5</td>\n",
              "      <td>0</td>\n",
              "      <td>3</td>\n",
              "      <td>Allen, Mr. William Henry</td>\n",
              "      <td>male</td>\n",
              "      <td>35.0</td>\n",
              "      <td>8.0500</td>\n",
              "      <td>Southhampton</td>\n",
              "    </tr>\n",
              "  </tbody>\n",
              "</table>\n",
              "</div>"
            ],
            "text/plain": [
              "   PassengerId  Survived  Pclass  ...   Age     Fare      Embarked\n",
              "0            1         0       3  ...  22.0   7.2500  Southhampton\n",
              "1            2         1       1  ...  38.0  71.2833     Cherbourg\n",
              "2            3         1       3  ...  26.0   7.9250  Southhampton\n",
              "3            4         1       1  ...  35.0  53.1000  Southhampton\n",
              "4            5         0       3  ...  35.0   8.0500  Southhampton\n",
              "\n",
              "[5 rows x 8 columns]"
            ]
          },
          "metadata": {
            "tags": []
          },
          "execution_count": 4
        }
      ]
    },
    {
      "cell_type": "code",
      "metadata": {
        "id": "TVoWootyIJPU",
        "scrolled": true,
        "colab": {
          "base_uri": "https://localhost:8080/",
          "height": 348
        },
        "outputId": "5a64e88b-df2a-46d5-ce7b-da8fce304e6b"
      },
      "source": [
        "# 첫 10개 행 데이터\n",
        "titanic.head(10)"
      ],
      "execution_count": 5,
      "outputs": [
        {
          "output_type": "execute_result",
          "data": {
            "text/html": [
              "<div>\n",
              "<style scoped>\n",
              "    .dataframe tbody tr th:only-of-type {\n",
              "        vertical-align: middle;\n",
              "    }\n",
              "\n",
              "    .dataframe tbody tr th {\n",
              "        vertical-align: top;\n",
              "    }\n",
              "\n",
              "    .dataframe thead th {\n",
              "        text-align: right;\n",
              "    }\n",
              "</style>\n",
              "<table border=\"1\" class=\"dataframe\">\n",
              "  <thead>\n",
              "    <tr style=\"text-align: right;\">\n",
              "      <th></th>\n",
              "      <th>PassengerId</th>\n",
              "      <th>Survived</th>\n",
              "      <th>Pclass</th>\n",
              "      <th>Name</th>\n",
              "      <th>Sex</th>\n",
              "      <th>Age</th>\n",
              "      <th>Fare</th>\n",
              "      <th>Embarked</th>\n",
              "    </tr>\n",
              "  </thead>\n",
              "  <tbody>\n",
              "    <tr>\n",
              "      <th>0</th>\n",
              "      <td>1</td>\n",
              "      <td>0</td>\n",
              "      <td>3</td>\n",
              "      <td>Braund, Mr. Owen Harris</td>\n",
              "      <td>male</td>\n",
              "      <td>22.0</td>\n",
              "      <td>7.2500</td>\n",
              "      <td>Southhampton</td>\n",
              "    </tr>\n",
              "    <tr>\n",
              "      <th>1</th>\n",
              "      <td>2</td>\n",
              "      <td>1</td>\n",
              "      <td>1</td>\n",
              "      <td>Cumings, Mrs. John Bradley (Florence Briggs Th...</td>\n",
              "      <td>female</td>\n",
              "      <td>38.0</td>\n",
              "      <td>71.2833</td>\n",
              "      <td>Cherbourg</td>\n",
              "    </tr>\n",
              "    <tr>\n",
              "      <th>2</th>\n",
              "      <td>3</td>\n",
              "      <td>1</td>\n",
              "      <td>3</td>\n",
              "      <td>Heikkinen, Miss. Laina</td>\n",
              "      <td>female</td>\n",
              "      <td>26.0</td>\n",
              "      <td>7.9250</td>\n",
              "      <td>Southhampton</td>\n",
              "    </tr>\n",
              "    <tr>\n",
              "      <th>3</th>\n",
              "      <td>4</td>\n",
              "      <td>1</td>\n",
              "      <td>1</td>\n",
              "      <td>Futrelle, Mrs. Jacques Heath (Lily May Peel)</td>\n",
              "      <td>female</td>\n",
              "      <td>35.0</td>\n",
              "      <td>53.1000</td>\n",
              "      <td>Southhampton</td>\n",
              "    </tr>\n",
              "    <tr>\n",
              "      <th>4</th>\n",
              "      <td>5</td>\n",
              "      <td>0</td>\n",
              "      <td>3</td>\n",
              "      <td>Allen, Mr. William Henry</td>\n",
              "      <td>male</td>\n",
              "      <td>35.0</td>\n",
              "      <td>8.0500</td>\n",
              "      <td>Southhampton</td>\n",
              "    </tr>\n",
              "    <tr>\n",
              "      <th>5</th>\n",
              "      <td>6</td>\n",
              "      <td>0</td>\n",
              "      <td>3</td>\n",
              "      <td>Moran, Mr. James</td>\n",
              "      <td>male</td>\n",
              "      <td>NaN</td>\n",
              "      <td>8.4583</td>\n",
              "      <td>Queenstown</td>\n",
              "    </tr>\n",
              "    <tr>\n",
              "      <th>6</th>\n",
              "      <td>7</td>\n",
              "      <td>0</td>\n",
              "      <td>1</td>\n",
              "      <td>McCarthy, Mr. Timothy J</td>\n",
              "      <td>male</td>\n",
              "      <td>54.0</td>\n",
              "      <td>51.8625</td>\n",
              "      <td>Southhampton</td>\n",
              "    </tr>\n",
              "    <tr>\n",
              "      <th>7</th>\n",
              "      <td>8</td>\n",
              "      <td>0</td>\n",
              "      <td>3</td>\n",
              "      <td>Palsson, Master. Gosta Leonard</td>\n",
              "      <td>male</td>\n",
              "      <td>2.0</td>\n",
              "      <td>21.0750</td>\n",
              "      <td>Southhampton</td>\n",
              "    </tr>\n",
              "    <tr>\n",
              "      <th>8</th>\n",
              "      <td>9</td>\n",
              "      <td>1</td>\n",
              "      <td>3</td>\n",
              "      <td>Johnson, Mrs. Oscar W (Elisabeth Vilhelmina Berg)</td>\n",
              "      <td>female</td>\n",
              "      <td>27.0</td>\n",
              "      <td>11.1333</td>\n",
              "      <td>Southhampton</td>\n",
              "    </tr>\n",
              "    <tr>\n",
              "      <th>9</th>\n",
              "      <td>10</td>\n",
              "      <td>1</td>\n",
              "      <td>2</td>\n",
              "      <td>Nasser, Mrs. Nicholas (Adele Achem)</td>\n",
              "      <td>female</td>\n",
              "      <td>14.0</td>\n",
              "      <td>30.0708</td>\n",
              "      <td>Cherbourg</td>\n",
              "    </tr>\n",
              "  </tbody>\n",
              "</table>\n",
              "</div>"
            ],
            "text/plain": [
              "   PassengerId  Survived  Pclass  ...   Age     Fare      Embarked\n",
              "0            1         0       3  ...  22.0   7.2500  Southhampton\n",
              "1            2         1       1  ...  38.0  71.2833     Cherbourg\n",
              "2            3         1       3  ...  26.0   7.9250  Southhampton\n",
              "3            4         1       1  ...  35.0  53.1000  Southhampton\n",
              "4            5         0       3  ...  35.0   8.0500  Southhampton\n",
              "5            6         0       3  ...   NaN   8.4583    Queenstown\n",
              "6            7         0       1  ...  54.0  51.8625  Southhampton\n",
              "7            8         0       3  ...   2.0  21.0750  Southhampton\n",
              "8            9         1       3  ...  27.0  11.1333  Southhampton\n",
              "9           10         1       2  ...  14.0  30.0708     Cherbourg\n",
              "\n",
              "[10 rows x 8 columns]"
            ]
          },
          "metadata": {
            "tags": []
          },
          "execution_count": 5
        }
      ]
    },
    {
      "cell_type": "markdown",
      "metadata": {
        "id": "-vHvSJQhsFht"
      },
      "source": [
        "**2) 뒤쪽 데이터 확인**"
      ]
    },
    {
      "cell_type": "code",
      "metadata": {
        "id": "2agjyJgBYnVf",
        "colab": {
          "base_uri": "https://localhost:8080/",
          "height": 198
        },
        "outputId": "e21c0314-99b5-4b16-83c2-466da407fc8a"
      },
      "source": [
        "# 마지막 5개 행 데이터\n",
        "titanic.tail()"
      ],
      "execution_count": 6,
      "outputs": [
        {
          "output_type": "execute_result",
          "data": {
            "text/html": [
              "<div>\n",
              "<style scoped>\n",
              "    .dataframe tbody tr th:only-of-type {\n",
              "        vertical-align: middle;\n",
              "    }\n",
              "\n",
              "    .dataframe tbody tr th {\n",
              "        vertical-align: top;\n",
              "    }\n",
              "\n",
              "    .dataframe thead th {\n",
              "        text-align: right;\n",
              "    }\n",
              "</style>\n",
              "<table border=\"1\" class=\"dataframe\">\n",
              "  <thead>\n",
              "    <tr style=\"text-align: right;\">\n",
              "      <th></th>\n",
              "      <th>PassengerId</th>\n",
              "      <th>Survived</th>\n",
              "      <th>Pclass</th>\n",
              "      <th>Name</th>\n",
              "      <th>Sex</th>\n",
              "      <th>Age</th>\n",
              "      <th>Fare</th>\n",
              "      <th>Embarked</th>\n",
              "    </tr>\n",
              "  </thead>\n",
              "  <tbody>\n",
              "    <tr>\n",
              "      <th>886</th>\n",
              "      <td>887</td>\n",
              "      <td>0</td>\n",
              "      <td>2</td>\n",
              "      <td>Montvila, Rev. Juozas</td>\n",
              "      <td>male</td>\n",
              "      <td>27.0</td>\n",
              "      <td>13.00</td>\n",
              "      <td>Southhampton</td>\n",
              "    </tr>\n",
              "    <tr>\n",
              "      <th>887</th>\n",
              "      <td>888</td>\n",
              "      <td>1</td>\n",
              "      <td>1</td>\n",
              "      <td>Graham, Miss. Margaret Edith</td>\n",
              "      <td>female</td>\n",
              "      <td>19.0</td>\n",
              "      <td>30.00</td>\n",
              "      <td>Southhampton</td>\n",
              "    </tr>\n",
              "    <tr>\n",
              "      <th>888</th>\n",
              "      <td>889</td>\n",
              "      <td>0</td>\n",
              "      <td>3</td>\n",
              "      <td>Johnston, Miss. Catherine Helen \"Carrie\"</td>\n",
              "      <td>female</td>\n",
              "      <td>NaN</td>\n",
              "      <td>23.45</td>\n",
              "      <td>Southhampton</td>\n",
              "    </tr>\n",
              "    <tr>\n",
              "      <th>889</th>\n",
              "      <td>890</td>\n",
              "      <td>1</td>\n",
              "      <td>1</td>\n",
              "      <td>Behr, Mr. Karl Howell</td>\n",
              "      <td>male</td>\n",
              "      <td>26.0</td>\n",
              "      <td>30.00</td>\n",
              "      <td>Cherbourg</td>\n",
              "    </tr>\n",
              "    <tr>\n",
              "      <th>890</th>\n",
              "      <td>891</td>\n",
              "      <td>0</td>\n",
              "      <td>3</td>\n",
              "      <td>Dooley, Mr. Patrick</td>\n",
              "      <td>male</td>\n",
              "      <td>32.0</td>\n",
              "      <td>7.75</td>\n",
              "      <td>Queenstown</td>\n",
              "    </tr>\n",
              "  </tbody>\n",
              "</table>\n",
              "</div>"
            ],
            "text/plain": [
              "     PassengerId  Survived  Pclass  ...   Age   Fare      Embarked\n",
              "886          887         0       2  ...  27.0  13.00  Southhampton\n",
              "887          888         1       1  ...  19.0  30.00  Southhampton\n",
              "888          889         0       3  ...   NaN  23.45  Southhampton\n",
              "889          890         1       1  ...  26.0  30.00     Cherbourg\n",
              "890          891         0       3  ...  32.0   7.75    Queenstown\n",
              "\n",
              "[5 rows x 8 columns]"
            ]
          },
          "metadata": {
            "tags": []
          },
          "execution_count": 6
        }
      ]
    },
    {
      "cell_type": "code",
      "metadata": {
        "id": "-Qr9hq-SsV70",
        "colab": {
          "base_uri": "https://localhost:8080/",
          "height": 138
        },
        "outputId": "5c0cea5f-000c-4668-b801-595e0c70af9b"
      },
      "source": [
        "# 마지막 3개 행 데이터\n",
        "titanic.tail(3)"
      ],
      "execution_count": 7,
      "outputs": [
        {
          "output_type": "execute_result",
          "data": {
            "text/html": [
              "<div>\n",
              "<style scoped>\n",
              "    .dataframe tbody tr th:only-of-type {\n",
              "        vertical-align: middle;\n",
              "    }\n",
              "\n",
              "    .dataframe tbody tr th {\n",
              "        vertical-align: top;\n",
              "    }\n",
              "\n",
              "    .dataframe thead th {\n",
              "        text-align: right;\n",
              "    }\n",
              "</style>\n",
              "<table border=\"1\" class=\"dataframe\">\n",
              "  <thead>\n",
              "    <tr style=\"text-align: right;\">\n",
              "      <th></th>\n",
              "      <th>PassengerId</th>\n",
              "      <th>Survived</th>\n",
              "      <th>Pclass</th>\n",
              "      <th>Name</th>\n",
              "      <th>Sex</th>\n",
              "      <th>Age</th>\n",
              "      <th>Fare</th>\n",
              "      <th>Embarked</th>\n",
              "    </tr>\n",
              "  </thead>\n",
              "  <tbody>\n",
              "    <tr>\n",
              "      <th>888</th>\n",
              "      <td>889</td>\n",
              "      <td>0</td>\n",
              "      <td>3</td>\n",
              "      <td>Johnston, Miss. Catherine Helen \"Carrie\"</td>\n",
              "      <td>female</td>\n",
              "      <td>NaN</td>\n",
              "      <td>23.45</td>\n",
              "      <td>Southhampton</td>\n",
              "    </tr>\n",
              "    <tr>\n",
              "      <th>889</th>\n",
              "      <td>890</td>\n",
              "      <td>1</td>\n",
              "      <td>1</td>\n",
              "      <td>Behr, Mr. Karl Howell</td>\n",
              "      <td>male</td>\n",
              "      <td>26.0</td>\n",
              "      <td>30.00</td>\n",
              "      <td>Cherbourg</td>\n",
              "    </tr>\n",
              "    <tr>\n",
              "      <th>890</th>\n",
              "      <td>891</td>\n",
              "      <td>0</td>\n",
              "      <td>3</td>\n",
              "      <td>Dooley, Mr. Patrick</td>\n",
              "      <td>male</td>\n",
              "      <td>32.0</td>\n",
              "      <td>7.75</td>\n",
              "      <td>Queenstown</td>\n",
              "    </tr>\n",
              "  </tbody>\n",
              "</table>\n",
              "</div>"
            ],
            "text/plain": [
              "     PassengerId  Survived  Pclass  ...   Age   Fare      Embarked\n",
              "888          889         0       3  ...   NaN  23.45  Southhampton\n",
              "889          890         1       1  ...  26.0  30.00     Cherbourg\n",
              "890          891         0       3  ...  32.0   7.75    Queenstown\n",
              "\n",
              "[3 rows x 8 columns]"
            ]
          },
          "metadata": {
            "tags": []
          },
          "execution_count": 7
        }
      ]
    },
    {
      "cell_type": "markdown",
      "metadata": {
        "id": "6lBnFI3xsJRR"
      },
      "source": [
        "**3) 크기 확인**\n",
        "\n",
        "- **(rows, cols)** 값을 갖는 **튜플** 형태로 확인이 가능합니다.\n",
        "- 데이터를 분석할 때 처리할 **데이터 양을 확인**하는 목적으로 많이 사용 합니다."
      ]
    },
    {
      "cell_type": "code",
      "metadata": {
        "id": "EYh2NhMSYnVh",
        "colab": {
          "base_uri": "https://localhost:8080/"
        },
        "outputId": "43dbebe3-db1a-44f5-e94f-ae1d624f1254"
      },
      "source": [
        "# 행 수와 열 수 확인\n",
        "titanic.shape"
      ],
      "execution_count": 8,
      "outputs": [
        {
          "output_type": "execute_result",
          "data": {
            "text/plain": [
              "(891, 8)"
            ]
          },
          "metadata": {
            "tags": []
          },
          "execution_count": 8
        }
      ]
    },
    {
      "cell_type": "code",
      "metadata": {
        "id": "etKhBR-sAanD",
        "colab": {
          "base_uri": "https://localhost:8080/"
        },
        "outputId": "a63373be-c53d-4af1-9829-0f5818dad3c2"
      },
      "source": [
        "# 행 수 확인\n",
        "titanic.shape[0]"
      ],
      "execution_count": 9,
      "outputs": [
        {
          "output_type": "execute_result",
          "data": {
            "text/plain": [
              "891"
            ]
          },
          "metadata": {
            "tags": []
          },
          "execution_count": 9
        }
      ]
    },
    {
      "cell_type": "code",
      "metadata": {
        "id": "AJdBQQ5-AanF",
        "colab": {
          "base_uri": "https://localhost:8080/"
        },
        "outputId": "81e0bc92-a9a9-45b0-9af8-59cc7bd6db37"
      },
      "source": [
        "# 열 수 확인\n",
        "titanic.shape[1]"
      ],
      "execution_count": 10,
      "outputs": [
        {
          "output_type": "execute_result",
          "data": {
            "text/plain": [
              "8"
            ]
          },
          "metadata": {
            "tags": []
          },
          "execution_count": 10
        }
      ]
    },
    {
      "cell_type": "code",
      "metadata": {
        "colab": {
          "base_uri": "https://localhost:8080/"
        },
        "id": "VVFdhyTQlOqx",
        "outputId": "e46c7f38-eff5-42bd-8a5a-45515b84501c"
      },
      "source": [
        "# 참고 : 크기확인\r\n",
        "titanic.size # 898 x 8 = 7128"
      ],
      "execution_count": 15,
      "outputs": [
        {
          "output_type": "execute_result",
          "data": {
            "text/plain": [
              "7128"
            ]
          },
          "metadata": {
            "tags": []
          },
          "execution_count": 15
        }
      ]
    },
    {
      "cell_type": "markdown",
      "metadata": {
        "id": "Lf1-5iz_wxkT"
      },
      "source": [
        "## 3.2. 열, 행 정보 보기"
      ]
    },
    {
      "cell_type": "markdown",
      "metadata": {
        "id": "DKmBgIFtIJPa"
      },
      "source": [
        "**1) 인덱스 확인**"
      ]
    },
    {
      "cell_type": "code",
      "metadata": {
        "id": "iGMPPsVZmO_J",
        "colab": {
          "base_uri": "https://localhost:8080/"
        },
        "outputId": "4de0ea53-29ea-4e68-d9b4-3395b06f4a1f"
      },
      "source": [
        "# 인덱스 확인\n",
        "titanic.index"
      ],
      "execution_count": 11,
      "outputs": [
        {
          "output_type": "execute_result",
          "data": {
            "text/plain": [
              "RangeIndex(start=0, stop=891, step=1)"
            ]
          },
          "metadata": {
            "tags": []
          },
          "execution_count": 11
        }
      ]
    },
    {
      "cell_type": "markdown",
      "metadata": {
        "id": "2yAu6hjGmqX5"
      },
      "source": [
        "**2) 값 확인**"
      ]
    },
    {
      "cell_type": "code",
      "metadata": {
        "id": "DK_uz55rmRRM",
        "colab": {
          "base_uri": "https://localhost:8080/"
        },
        "outputId": "5a898d0f-c19d-489a-fa0d-0c763b8158d1"
      },
      "source": [
        "# 값 확인\n",
        "titanic.values"
      ],
      "execution_count": 12,
      "outputs": [
        {
          "output_type": "execute_result",
          "data": {
            "text/plain": [
              "array([[1, 0, 3, ..., 22.0, 7.25, 'Southhampton'],\n",
              "       [2, 1, 1, ..., 38.0, 71.2833, 'Cherbourg'],\n",
              "       [3, 1, 3, ..., 26.0, 7.925, 'Southhampton'],\n",
              "       ...,\n",
              "       [889, 0, 3, ..., nan, 23.45, 'Southhampton'],\n",
              "       [890, 1, 1, ..., 26.0, 30.0, 'Cherbourg'],\n",
              "       [891, 0, 3, ..., 32.0, 7.75, 'Queenstown']], dtype=object)"
            ]
          },
          "metadata": {
            "tags": []
          },
          "execution_count": 12
        }
      ]
    },
    {
      "cell_type": "markdown",
      "metadata": {
        "id": "moM8H3EnmtsP"
      },
      "source": [
        "**3) 열 확인**"
      ]
    },
    {
      "cell_type": "code",
      "metadata": {
        "id": "YZp-NPIQYnVl",
        "scrolled": false,
        "colab": {
          "base_uri": "https://localhost:8080/"
        },
        "outputId": "96124707-43c9-40ce-9e0f-a73f6082b25e"
      },
      "source": [
        "# 열 확인\n",
        "titanic.columns"
      ],
      "execution_count": 16,
      "outputs": [
        {
          "output_type": "execute_result",
          "data": {
            "text/plain": [
              "Index(['PassengerId', 'Survived', 'Pclass', 'Name', 'Sex', 'Age', 'Fare',\n",
              "       'Embarked'],\n",
              "      dtype='object')"
            ]
          },
          "metadata": {
            "tags": []
          },
          "execution_count": 16
        }
      ]
    },
    {
      "cell_type": "code",
      "metadata": {
        "colab": {
          "base_uri": "https://localhost:8080/"
        },
        "id": "Lj-7SdxGmLHt",
        "outputId": "ee462628-4bb9-499a-8576-6c5f391038b3"
      },
      "source": [
        "#소문자로 바꾸기\r\n",
        "titanic.columns.str.lower()"
      ],
      "execution_count": 21,
      "outputs": [
        {
          "output_type": "execute_result",
          "data": {
            "text/plain": [
              "Index(['passengerid', 'survived', 'pclass', 'name', 'sex', 'age', 'fare',\n",
              "       'embarked'],\n",
              "      dtype='object')"
            ]
          },
          "metadata": {
            "tags": []
          },
          "execution_count": 21
        }
      ]
    },
    {
      "cell_type": "code",
      "metadata": {
        "colab": {
          "base_uri": "https://localhost:8080/"
        },
        "id": "YMDPOO-0lvva",
        "outputId": "8f3e7d9c-6ced-4997-8156-a3d74db9d6ad"
      },
      "source": [
        "# 첫글자만 대문자\r\n",
        "titanic.columns.str.title()"
      ],
      "execution_count": 20,
      "outputs": [
        {
          "output_type": "execute_result",
          "data": {
            "text/plain": [
              "Index(['Passengerid', 'Survived', 'Pclass', 'Name', 'Sex', 'Age', 'Fare',\n",
              "       'Embarked'],\n",
              "      dtype='object')"
            ]
          },
          "metadata": {
            "tags": []
          },
          "execution_count": 20
        }
      ]
    },
    {
      "cell_type": "markdown",
      "metadata": {
        "id": "03NTnomXIJPc"
      },
      "source": [
        "**4) 자료형 확인**\n",
        "- int64: 정수형 데이터(int)\n",
        "- float64: 실수형 데이터(float)\n",
        "- object: 문자열 데이터(string)"
      ]
    },
    {
      "cell_type": "code",
      "metadata": {
        "id": "mJbpIbz2YnVn",
        "scrolled": true,
        "colab": {
          "base_uri": "https://localhost:8080/"
        },
        "outputId": "ab0f9cae-47b7-4912-a12a-f9ef65d73290"
      },
      "source": [
        "# 열 자료형 확인\n",
        "titanic.dtypes"
      ],
      "execution_count": 24,
      "outputs": [
        {
          "output_type": "execute_result",
          "data": {
            "text/plain": [
              "PassengerId      int64\n",
              "Survived         int64\n",
              "Pclass           int64\n",
              "Name            object\n",
              "Sex             object\n",
              "Age            float64\n",
              "Fare           float64\n",
              "Embarked        object\n",
              "dtype: object"
            ]
          },
          "metadata": {
            "tags": []
          },
          "execution_count": 24
        }
      ]
    },
    {
      "cell_type": "code",
      "metadata": {
        "scrolled": true,
        "id": "zXmD-NqbURwP",
        "colab": {
          "base_uri": "https://localhost:8080/"
        },
        "outputId": "8188bc65-7501-4912-f789-a60844b62f5d"
      },
      "source": [
        "# 열 자료형, 값 개수 확인\n",
        "titanic.info()"
      ],
      "execution_count": 25,
      "outputs": [
        {
          "output_type": "stream",
          "text": [
            "<class 'pandas.core.frame.DataFrame'>\n",
            "RangeIndex: 891 entries, 0 to 890\n",
            "Data columns (total 8 columns):\n",
            " #   Column       Non-Null Count  Dtype  \n",
            "---  ------       --------------  -----  \n",
            " 0   PassengerId  891 non-null    int64  \n",
            " 1   Survived     891 non-null    int64  \n",
            " 2   Pclass       891 non-null    int64  \n",
            " 3   Name         891 non-null    object \n",
            " 4   Sex          891 non-null    object \n",
            " 5   Age          714 non-null    float64\n",
            " 6   Fare         891 non-null    float64\n",
            " 7   Embarked     889 non-null    object \n",
            "dtypes: float64(2), int64(3), object(3)\n",
            "memory usage: 55.8+ KB\n"
          ],
          "name": "stdout"
        }
      ]
    },
    {
      "cell_type": "markdown",
      "metadata": {
        "id": "ZdTxUS47IJPe"
      },
      "source": [
        "**5) 기초 통계 정보 확인**\n",
        "- 개수(count), 평균(mean), 표준편차(std), 최솟값(min), 사분위값(25%, 50%, 75%), 최댓값(max)을 표시합니다."
      ]
    },
    {
      "cell_type": "code",
      "metadata": {
        "id": "8Z8rhBNBYnVw",
        "scrolled": true,
        "colab": {
          "base_uri": "https://localhost:8080/",
          "height": 288
        },
        "outputId": "04a7c3c4-01e6-46eb-d58c-ffcd84c92296"
      },
      "source": [
        "# 기초 통계 정보\n",
        "titanic.describe()"
      ],
      "execution_count": 26,
      "outputs": [
        {
          "output_type": "execute_result",
          "data": {
            "text/html": [
              "<div>\n",
              "<style scoped>\n",
              "    .dataframe tbody tr th:only-of-type {\n",
              "        vertical-align: middle;\n",
              "    }\n",
              "\n",
              "    .dataframe tbody tr th {\n",
              "        vertical-align: top;\n",
              "    }\n",
              "\n",
              "    .dataframe thead th {\n",
              "        text-align: right;\n",
              "    }\n",
              "</style>\n",
              "<table border=\"1\" class=\"dataframe\">\n",
              "  <thead>\n",
              "    <tr style=\"text-align: right;\">\n",
              "      <th></th>\n",
              "      <th>PassengerId</th>\n",
              "      <th>Survived</th>\n",
              "      <th>Pclass</th>\n",
              "      <th>Age</th>\n",
              "      <th>Fare</th>\n",
              "    </tr>\n",
              "  </thead>\n",
              "  <tbody>\n",
              "    <tr>\n",
              "      <th>count</th>\n",
              "      <td>891.000000</td>\n",
              "      <td>891.000000</td>\n",
              "      <td>891.000000</td>\n",
              "      <td>714.000000</td>\n",
              "      <td>891.000000</td>\n",
              "    </tr>\n",
              "    <tr>\n",
              "      <th>mean</th>\n",
              "      <td>446.000000</td>\n",
              "      <td>0.383838</td>\n",
              "      <td>2.308642</td>\n",
              "      <td>29.699118</td>\n",
              "      <td>32.204208</td>\n",
              "    </tr>\n",
              "    <tr>\n",
              "      <th>std</th>\n",
              "      <td>257.353842</td>\n",
              "      <td>0.486592</td>\n",
              "      <td>0.836071</td>\n",
              "      <td>14.526497</td>\n",
              "      <td>49.693429</td>\n",
              "    </tr>\n",
              "    <tr>\n",
              "      <th>min</th>\n",
              "      <td>1.000000</td>\n",
              "      <td>0.000000</td>\n",
              "      <td>1.000000</td>\n",
              "      <td>0.420000</td>\n",
              "      <td>0.000000</td>\n",
              "    </tr>\n",
              "    <tr>\n",
              "      <th>25%</th>\n",
              "      <td>223.500000</td>\n",
              "      <td>0.000000</td>\n",
              "      <td>2.000000</td>\n",
              "      <td>20.125000</td>\n",
              "      <td>7.910400</td>\n",
              "    </tr>\n",
              "    <tr>\n",
              "      <th>50%</th>\n",
              "      <td>446.000000</td>\n",
              "      <td>0.000000</td>\n",
              "      <td>3.000000</td>\n",
              "      <td>28.000000</td>\n",
              "      <td>14.454200</td>\n",
              "    </tr>\n",
              "    <tr>\n",
              "      <th>75%</th>\n",
              "      <td>668.500000</td>\n",
              "      <td>1.000000</td>\n",
              "      <td>3.000000</td>\n",
              "      <td>38.000000</td>\n",
              "      <td>31.000000</td>\n",
              "    </tr>\n",
              "    <tr>\n",
              "      <th>max</th>\n",
              "      <td>891.000000</td>\n",
              "      <td>1.000000</td>\n",
              "      <td>3.000000</td>\n",
              "      <td>80.000000</td>\n",
              "      <td>512.329200</td>\n",
              "    </tr>\n",
              "  </tbody>\n",
              "</table>\n",
              "</div>"
            ],
            "text/plain": [
              "       PassengerId    Survived      Pclass         Age        Fare\n",
              "count   891.000000  891.000000  891.000000  714.000000  891.000000\n",
              "mean    446.000000    0.383838    2.308642   29.699118   32.204208\n",
              "std     257.353842    0.486592    0.836071   14.526497   49.693429\n",
              "min       1.000000    0.000000    1.000000    0.420000    0.000000\n",
              "25%     223.500000    0.000000    2.000000   20.125000    7.910400\n",
              "50%     446.000000    0.000000    3.000000   28.000000   14.454200\n",
              "75%     668.500000    1.000000    3.000000   38.000000   31.000000\n",
              "max     891.000000    1.000000    3.000000   80.000000  512.329200"
            ]
          },
          "metadata": {
            "tags": []
          },
          "execution_count": 26
        }
      ]
    },
    {
      "cell_type": "markdown",
      "metadata": {
        "id": "JhRnKC0L-wjG"
      },
      "source": [
        "<img src='https://raw.githubusercontent.com/jangrae/img/master/practice_01.png' width=120 align=\"left\"/>"
      ]
    },
    {
      "cell_type": "markdown",
      "metadata": {
        "id": "IOb6vqTbdtPC"
      },
      "source": [
        "[문1] 다음 코드를 실행해서 stock 데이터프레임을 만들고 관련 정보를 확인해 보세요."
      ]
    },
    {
      "cell_type": "code",
      "metadata": {
        "scrolled": false,
        "id": "UmooiWmRdQUj",
        "colab": {
          "base_uri": "https://localhost:8080/",
          "height": 198
        },
        "outputId": "52be97fd-2076-4902-b891-08b52421e3d8"
      },
      "source": [
        "# stock 데이터 불러오기\n",
        "file_path = 'https://raw.githubusercontent.com/Jangrae/csv/master/stock.csv'\n",
        "stock = pd.read_csv(file_path, sep = ',', header=0, index_col=False)  \n",
        "\n",
        "# 확인\n",
        "stock.head()"
      ],
      "execution_count": 28,
      "outputs": [
        {
          "output_type": "execute_result",
          "data": {
            "text/html": [
              "<div>\n",
              "<style scoped>\n",
              "    .dataframe tbody tr th:only-of-type {\n",
              "        vertical-align: middle;\n",
              "    }\n",
              "\n",
              "    .dataframe tbody tr th {\n",
              "        vertical-align: top;\n",
              "    }\n",
              "\n",
              "    .dataframe thead th {\n",
              "        text-align: right;\n",
              "    }\n",
              "</style>\n",
              "<table border=\"1\" class=\"dataframe\">\n",
              "  <thead>\n",
              "    <tr style=\"text-align: right;\">\n",
              "      <th></th>\n",
              "      <th>Date</th>\n",
              "      <th>High</th>\n",
              "      <th>Low</th>\n",
              "      <th>Open</th>\n",
              "      <th>Close</th>\n",
              "      <th>Volume</th>\n",
              "      <th>Adj Close</th>\n",
              "    </tr>\n",
              "  </thead>\n",
              "  <tbody>\n",
              "    <tr>\n",
              "      <th>0</th>\n",
              "      <td>2000-01-03</td>\n",
              "      <td>4.017857</td>\n",
              "      <td>3.631696</td>\n",
              "      <td>3.745536</td>\n",
              "      <td>3.997768</td>\n",
              "      <td>133949200</td>\n",
              "      <td>3.470226</td>\n",
              "    </tr>\n",
              "    <tr>\n",
              "      <th>1</th>\n",
              "      <td>2000-01-04</td>\n",
              "      <td>3.950893</td>\n",
              "      <td>3.613839</td>\n",
              "      <td>3.866071</td>\n",
              "      <td>3.660714</td>\n",
              "      <td>128094400</td>\n",
              "      <td>3.177650</td>\n",
              "    </tr>\n",
              "    <tr>\n",
              "      <th>2</th>\n",
              "      <td>2000-01-05</td>\n",
              "      <td>3.948661</td>\n",
              "      <td>3.678571</td>\n",
              "      <td>3.705357</td>\n",
              "      <td>3.714286</td>\n",
              "      <td>194580400</td>\n",
              "      <td>3.224152</td>\n",
              "    </tr>\n",
              "    <tr>\n",
              "      <th>3</th>\n",
              "      <td>2000-01-06</td>\n",
              "      <td>3.821429</td>\n",
              "      <td>3.392857</td>\n",
              "      <td>3.790179</td>\n",
              "      <td>3.392857</td>\n",
              "      <td>191993200</td>\n",
              "      <td>2.945139</td>\n",
              "    </tr>\n",
              "    <tr>\n",
              "      <th>4</th>\n",
              "      <td>2000-01-07</td>\n",
              "      <td>3.607143</td>\n",
              "      <td>3.410714</td>\n",
              "      <td>3.446429</td>\n",
              "      <td>3.553571</td>\n",
              "      <td>115183600</td>\n",
              "      <td>3.084645</td>\n",
              "    </tr>\n",
              "  </tbody>\n",
              "</table>\n",
              "</div>"
            ],
            "text/plain": [
              "         Date      High       Low      Open     Close     Volume  Adj Close\n",
              "0  2000-01-03  4.017857  3.631696  3.745536  3.997768  133949200   3.470226\n",
              "1  2000-01-04  3.950893  3.613839  3.866071  3.660714  128094400   3.177650\n",
              "2  2000-01-05  3.948661  3.678571  3.705357  3.714286  194580400   3.224152\n",
              "3  2000-01-06  3.821429  3.392857  3.790179  3.392857  191993200   2.945139\n",
              "4  2000-01-07  3.607143  3.410714  3.446429  3.553571  115183600   3.084645"
            ]
          },
          "metadata": {
            "tags": []
          },
          "execution_count": 28
        }
      ]
    },
    {
      "cell_type": "code",
      "metadata": {
        "scrolled": false,
        "id": "juWI1txLdtPE",
        "colab": {
          "base_uri": "https://localhost:8080/"
        },
        "outputId": "a97f2ae4-b93b-4cf2-a955-dd38b2e7caee"
      },
      "source": [
        "# 크기 확인\n",
        "stock.shape"
      ],
      "execution_count": 29,
      "outputs": [
        {
          "output_type": "execute_result",
          "data": {
            "text/plain": [
              "(5031, 7)"
            ]
          },
          "metadata": {
            "tags": []
          },
          "execution_count": 29
        }
      ]
    },
    {
      "cell_type": "code",
      "metadata": {
        "id": "6X9fadORdtPJ",
        "colab": {
          "base_uri": "https://localhost:8080/"
        },
        "outputId": "2476b580-85e0-4869-b1c1-f10f04e8794d"
      },
      "source": [
        "# 인덱스 확인\n",
        "stock.index"
      ],
      "execution_count": 30,
      "outputs": [
        {
          "output_type": "execute_result",
          "data": {
            "text/plain": [
              "RangeIndex(start=0, stop=5031, step=1)"
            ]
          },
          "metadata": {
            "tags": []
          },
          "execution_count": 30
        }
      ]
    },
    {
      "cell_type": "code",
      "metadata": {
        "id": "orwZpYENdtPN",
        "colab": {
          "base_uri": "https://localhost:8080/"
        },
        "outputId": "64256c6e-2cb7-43f5-85cf-efcc55f5f7ea"
      },
      "source": [
        "# 열 확인\n",
        "stock.columns"
      ],
      "execution_count": 31,
      "outputs": [
        {
          "output_type": "execute_result",
          "data": {
            "text/plain": [
              "Index(['Date', 'High', 'Low', 'Open', 'Close', 'Volume', 'Adj Close'], dtype='object')"
            ]
          },
          "metadata": {
            "tags": []
          },
          "execution_count": 31
        }
      ]
    },
    {
      "cell_type": "code",
      "metadata": {
        "id": "P1q5Hn6FdtPQ",
        "colab": {
          "base_uri": "https://localhost:8080/"
        },
        "outputId": "18e4dd66-561b-44c7-d190-03c15c8006e7"
      },
      "source": [
        "# 열 자료형, 값 개수 확인\n",
        "stock.dtypes\n",
        "stock.info()"
      ],
      "execution_count": 33,
      "outputs": [
        {
          "output_type": "stream",
          "text": [
            "<class 'pandas.core.frame.DataFrame'>\n",
            "RangeIndex: 5031 entries, 0 to 5030\n",
            "Data columns (total 7 columns):\n",
            " #   Column     Non-Null Count  Dtype  \n",
            "---  ------     --------------  -----  \n",
            " 0   Date       5031 non-null   object \n",
            " 1   High       5031 non-null   float64\n",
            " 2   Low        5031 non-null   float64\n",
            " 3   Open       5031 non-null   float64\n",
            " 4   Close      5031 non-null   float64\n",
            " 5   Volume     5031 non-null   int64  \n",
            " 6   Adj Close  5031 non-null   float64\n",
            "dtypes: float64(5), int64(1), object(1)\n",
            "memory usage: 275.3+ KB\n"
          ],
          "name": "stdout"
        }
      ]
    },
    {
      "cell_type": "code",
      "metadata": {
        "id": "s7zaSvW4dtPT",
        "colab": {
          "base_uri": "https://localhost:8080/",
          "height": 288
        },
        "outputId": "42eae4ba-e226-4a03-a8af-256ab9a31de2"
      },
      "source": [
        "# 기초 통계 정보 확인\n",
        "stock.describe()"
      ],
      "execution_count": 36,
      "outputs": [
        {
          "output_type": "execute_result",
          "data": {
            "text/html": [
              "<div>\n",
              "<style scoped>\n",
              "    .dataframe tbody tr th:only-of-type {\n",
              "        vertical-align: middle;\n",
              "    }\n",
              "\n",
              "    .dataframe tbody tr th {\n",
              "        vertical-align: top;\n",
              "    }\n",
              "\n",
              "    .dataframe thead th {\n",
              "        text-align: right;\n",
              "    }\n",
              "</style>\n",
              "<table border=\"1\" class=\"dataframe\">\n",
              "  <thead>\n",
              "    <tr style=\"text-align: right;\">\n",
              "      <th></th>\n",
              "      <th>High</th>\n",
              "      <th>Low</th>\n",
              "      <th>Open</th>\n",
              "      <th>Close</th>\n",
              "      <th>Volume</th>\n",
              "      <th>Adj Close</th>\n",
              "    </tr>\n",
              "  </thead>\n",
              "  <tbody>\n",
              "    <tr>\n",
              "      <th>count</th>\n",
              "      <td>5031.000000</td>\n",
              "      <td>5031.000000</td>\n",
              "      <td>5031.000000</td>\n",
              "      <td>5031.000000</td>\n",
              "      <td>5.031000e+03</td>\n",
              "      <td>5031.000000</td>\n",
              "    </tr>\n",
              "    <tr>\n",
              "      <th>mean</th>\n",
              "      <td>60.052092</td>\n",
              "      <td>58.916362</td>\n",
              "      <td>59.493094</td>\n",
              "      <td>59.503741</td>\n",
              "      <td>1.149430e+08</td>\n",
              "      <td>55.667863</td>\n",
              "    </tr>\n",
              "    <tr>\n",
              "      <th>std</th>\n",
              "      <td>65.302285</td>\n",
              "      <td>64.235383</td>\n",
              "      <td>64.752822</td>\n",
              "      <td>64.800571</td>\n",
              "      <td>9.877368e+07</td>\n",
              "      <td>63.229538</td>\n",
              "    </tr>\n",
              "    <tr>\n",
              "      <th>min</th>\n",
              "      <td>0.942143</td>\n",
              "      <td>0.908571</td>\n",
              "      <td>0.927857</td>\n",
              "      <td>0.937143</td>\n",
              "      <td>9.835000e+06</td>\n",
              "      <td>0.813478</td>\n",
              "    </tr>\n",
              "    <tr>\n",
              "      <th>25%</th>\n",
              "      <td>5.007500</td>\n",
              "      <td>4.784431</td>\n",
              "      <td>4.907679</td>\n",
              "      <td>4.907143</td>\n",
              "      <td>4.724460e+07</td>\n",
              "      <td>4.259600</td>\n",
              "    </tr>\n",
              "    <tr>\n",
              "      <th>50%</th>\n",
              "      <td>29.242857</td>\n",
              "      <td>28.585714</td>\n",
              "      <td>28.911428</td>\n",
              "      <td>28.925714</td>\n",
              "      <td>8.732500e+07</td>\n",
              "      <td>25.108700</td>\n",
              "    </tr>\n",
              "    <tr>\n",
              "      <th>75%</th>\n",
              "      <td>100.276428</td>\n",
              "      <td>98.385002</td>\n",
              "      <td>99.165001</td>\n",
              "      <td>99.480000</td>\n",
              "      <td>1.516658e+08</td>\n",
              "      <td>91.943821</td>\n",
              "    </tr>\n",
              "    <tr>\n",
              "      <th>max</th>\n",
              "      <td>293.970001</td>\n",
              "      <td>289.519989</td>\n",
              "      <td>291.119995</td>\n",
              "      <td>293.649994</td>\n",
              "      <td>1.855410e+09</td>\n",
              "      <td>292.954712</td>\n",
              "    </tr>\n",
              "  </tbody>\n",
              "</table>\n",
              "</div>"
            ],
            "text/plain": [
              "              High          Low  ...        Volume    Adj Close\n",
              "count  5031.000000  5031.000000  ...  5.031000e+03  5031.000000\n",
              "mean     60.052092    58.916362  ...  1.149430e+08    55.667863\n",
              "std      65.302285    64.235383  ...  9.877368e+07    63.229538\n",
              "min       0.942143     0.908571  ...  9.835000e+06     0.813478\n",
              "25%       5.007500     4.784431  ...  4.724460e+07     4.259600\n",
              "50%      29.242857    28.585714  ...  8.732500e+07    25.108700\n",
              "75%     100.276428    98.385002  ...  1.516658e+08    91.943821\n",
              "max     293.970001   289.519989  ...  1.855410e+09   292.954712\n",
              "\n",
              "[8 rows x 6 columns]"
            ]
          },
          "metadata": {
            "tags": []
          },
          "execution_count": 36
        }
      ]
    },
    {
      "cell_type": "markdown",
      "metadata": {
        "id": "7d32vCo6wxk0"
      },
      "source": [
        "## 3.3. 정렬해서 보기\n",
        "\n",
        "- 인덱스를 기준으로 정렬하는 방법과 특정 열을 기준으로 정렬하는 방법이 있습니다.\n",
        "- **sort_index()** 메소드로 **인덱스**를 기준으로 정렬합니다.\n",
        "- **sort_values()** 메소드로 **특정 열**을 기준으로 정렬합니다.\n",
        "- **ascending** 옵션을 설정해 오름차순, 내림차순을 설정할 수 있습니다.\n",
        "    - ascending=True: 오름차순 정렬(기본값)\n",
        "    - ascending=False: 내림차순 정렬"
      ]
    },
    {
      "cell_type": "markdown",
      "metadata": {
        "id": "ODaVW7agIJPl"
      },
      "source": [
        "**1) 인덱스를 기준으로 정렬**"
      ]
    },
    {
      "cell_type": "code",
      "metadata": {
        "id": "8p2my8OBIJPj",
        "scrolled": false,
        "colab": {
          "base_uri": "https://localhost:8080/",
          "height": 198
        },
        "outputId": "b8b82d64-e09c-4af6-de73-efc507b182c7"
      },
      "source": [
        "# 데이터프레임 확인\n",
        "titanic.head()"
      ],
      "execution_count": 37,
      "outputs": [
        {
          "output_type": "execute_result",
          "data": {
            "text/html": [
              "<div>\n",
              "<style scoped>\n",
              "    .dataframe tbody tr th:only-of-type {\n",
              "        vertical-align: middle;\n",
              "    }\n",
              "\n",
              "    .dataframe tbody tr th {\n",
              "        vertical-align: top;\n",
              "    }\n",
              "\n",
              "    .dataframe thead th {\n",
              "        text-align: right;\n",
              "    }\n",
              "</style>\n",
              "<table border=\"1\" class=\"dataframe\">\n",
              "  <thead>\n",
              "    <tr style=\"text-align: right;\">\n",
              "      <th></th>\n",
              "      <th>PassengerId</th>\n",
              "      <th>Survived</th>\n",
              "      <th>Pclass</th>\n",
              "      <th>Name</th>\n",
              "      <th>Sex</th>\n",
              "      <th>Age</th>\n",
              "      <th>Fare</th>\n",
              "      <th>Embarked</th>\n",
              "    </tr>\n",
              "  </thead>\n",
              "  <tbody>\n",
              "    <tr>\n",
              "      <th>0</th>\n",
              "      <td>1</td>\n",
              "      <td>0</td>\n",
              "      <td>3</td>\n",
              "      <td>Braund, Mr. Owen Harris</td>\n",
              "      <td>male</td>\n",
              "      <td>22.0</td>\n",
              "      <td>7.2500</td>\n",
              "      <td>Southhampton</td>\n",
              "    </tr>\n",
              "    <tr>\n",
              "      <th>1</th>\n",
              "      <td>2</td>\n",
              "      <td>1</td>\n",
              "      <td>1</td>\n",
              "      <td>Cumings, Mrs. John Bradley (Florence Briggs Th...</td>\n",
              "      <td>female</td>\n",
              "      <td>38.0</td>\n",
              "      <td>71.2833</td>\n",
              "      <td>Cherbourg</td>\n",
              "    </tr>\n",
              "    <tr>\n",
              "      <th>2</th>\n",
              "      <td>3</td>\n",
              "      <td>1</td>\n",
              "      <td>3</td>\n",
              "      <td>Heikkinen, Miss. Laina</td>\n",
              "      <td>female</td>\n",
              "      <td>26.0</td>\n",
              "      <td>7.9250</td>\n",
              "      <td>Southhampton</td>\n",
              "    </tr>\n",
              "    <tr>\n",
              "      <th>3</th>\n",
              "      <td>4</td>\n",
              "      <td>1</td>\n",
              "      <td>1</td>\n",
              "      <td>Futrelle, Mrs. Jacques Heath (Lily May Peel)</td>\n",
              "      <td>female</td>\n",
              "      <td>35.0</td>\n",
              "      <td>53.1000</td>\n",
              "      <td>Southhampton</td>\n",
              "    </tr>\n",
              "    <tr>\n",
              "      <th>4</th>\n",
              "      <td>5</td>\n",
              "      <td>0</td>\n",
              "      <td>3</td>\n",
              "      <td>Allen, Mr. William Henry</td>\n",
              "      <td>male</td>\n",
              "      <td>35.0</td>\n",
              "      <td>8.0500</td>\n",
              "      <td>Southhampton</td>\n",
              "    </tr>\n",
              "  </tbody>\n",
              "</table>\n",
              "</div>"
            ],
            "text/plain": [
              "   PassengerId  Survived  Pclass  ...   Age     Fare      Embarked\n",
              "0            1         0       3  ...  22.0   7.2500  Southhampton\n",
              "1            2         1       1  ...  38.0  71.2833     Cherbourg\n",
              "2            3         1       3  ...  26.0   7.9250  Southhampton\n",
              "3            4         1       1  ...  35.0  53.1000  Southhampton\n",
              "4            5         0       3  ...  35.0   8.0500  Southhampton\n",
              "\n",
              "[5 rows x 8 columns]"
            ]
          },
          "metadata": {
            "tags": []
          },
          "execution_count": 37
        }
      ]
    },
    {
      "cell_type": "code",
      "metadata": {
        "id": "XtYZ3ykzYnVz",
        "scrolled": false,
        "colab": {
          "base_uri": "https://localhost:8080/",
          "height": 407
        },
        "outputId": "b09a8a25-fb9d-4d68-b7f8-a00c7a9c02b2"
      },
      "source": [
        "# 인덱스를 기준으로 내림차순 정렬\n",
        "titanic.sort_index(ascending=False)"
      ],
      "execution_count": 38,
      "outputs": [
        {
          "output_type": "execute_result",
          "data": {
            "text/html": [
              "<div>\n",
              "<style scoped>\n",
              "    .dataframe tbody tr th:only-of-type {\n",
              "        vertical-align: middle;\n",
              "    }\n",
              "\n",
              "    .dataframe tbody tr th {\n",
              "        vertical-align: top;\n",
              "    }\n",
              "\n",
              "    .dataframe thead th {\n",
              "        text-align: right;\n",
              "    }\n",
              "</style>\n",
              "<table border=\"1\" class=\"dataframe\">\n",
              "  <thead>\n",
              "    <tr style=\"text-align: right;\">\n",
              "      <th></th>\n",
              "      <th>PassengerId</th>\n",
              "      <th>Survived</th>\n",
              "      <th>Pclass</th>\n",
              "      <th>Name</th>\n",
              "      <th>Sex</th>\n",
              "      <th>Age</th>\n",
              "      <th>Fare</th>\n",
              "      <th>Embarked</th>\n",
              "    </tr>\n",
              "  </thead>\n",
              "  <tbody>\n",
              "    <tr>\n",
              "      <th>890</th>\n",
              "      <td>891</td>\n",
              "      <td>0</td>\n",
              "      <td>3</td>\n",
              "      <td>Dooley, Mr. Patrick</td>\n",
              "      <td>male</td>\n",
              "      <td>32.0</td>\n",
              "      <td>7.7500</td>\n",
              "      <td>Queenstown</td>\n",
              "    </tr>\n",
              "    <tr>\n",
              "      <th>889</th>\n",
              "      <td>890</td>\n",
              "      <td>1</td>\n",
              "      <td>1</td>\n",
              "      <td>Behr, Mr. Karl Howell</td>\n",
              "      <td>male</td>\n",
              "      <td>26.0</td>\n",
              "      <td>30.0000</td>\n",
              "      <td>Cherbourg</td>\n",
              "    </tr>\n",
              "    <tr>\n",
              "      <th>888</th>\n",
              "      <td>889</td>\n",
              "      <td>0</td>\n",
              "      <td>3</td>\n",
              "      <td>Johnston, Miss. Catherine Helen \"Carrie\"</td>\n",
              "      <td>female</td>\n",
              "      <td>NaN</td>\n",
              "      <td>23.4500</td>\n",
              "      <td>Southhampton</td>\n",
              "    </tr>\n",
              "    <tr>\n",
              "      <th>887</th>\n",
              "      <td>888</td>\n",
              "      <td>1</td>\n",
              "      <td>1</td>\n",
              "      <td>Graham, Miss. Margaret Edith</td>\n",
              "      <td>female</td>\n",
              "      <td>19.0</td>\n",
              "      <td>30.0000</td>\n",
              "      <td>Southhampton</td>\n",
              "    </tr>\n",
              "    <tr>\n",
              "      <th>886</th>\n",
              "      <td>887</td>\n",
              "      <td>0</td>\n",
              "      <td>2</td>\n",
              "      <td>Montvila, Rev. Juozas</td>\n",
              "      <td>male</td>\n",
              "      <td>27.0</td>\n",
              "      <td>13.0000</td>\n",
              "      <td>Southhampton</td>\n",
              "    </tr>\n",
              "    <tr>\n",
              "      <th>...</th>\n",
              "      <td>...</td>\n",
              "      <td>...</td>\n",
              "      <td>...</td>\n",
              "      <td>...</td>\n",
              "      <td>...</td>\n",
              "      <td>...</td>\n",
              "      <td>...</td>\n",
              "      <td>...</td>\n",
              "    </tr>\n",
              "    <tr>\n",
              "      <th>4</th>\n",
              "      <td>5</td>\n",
              "      <td>0</td>\n",
              "      <td>3</td>\n",
              "      <td>Allen, Mr. William Henry</td>\n",
              "      <td>male</td>\n",
              "      <td>35.0</td>\n",
              "      <td>8.0500</td>\n",
              "      <td>Southhampton</td>\n",
              "    </tr>\n",
              "    <tr>\n",
              "      <th>3</th>\n",
              "      <td>4</td>\n",
              "      <td>1</td>\n",
              "      <td>1</td>\n",
              "      <td>Futrelle, Mrs. Jacques Heath (Lily May Peel)</td>\n",
              "      <td>female</td>\n",
              "      <td>35.0</td>\n",
              "      <td>53.1000</td>\n",
              "      <td>Southhampton</td>\n",
              "    </tr>\n",
              "    <tr>\n",
              "      <th>2</th>\n",
              "      <td>3</td>\n",
              "      <td>1</td>\n",
              "      <td>3</td>\n",
              "      <td>Heikkinen, Miss. Laina</td>\n",
              "      <td>female</td>\n",
              "      <td>26.0</td>\n",
              "      <td>7.9250</td>\n",
              "      <td>Southhampton</td>\n",
              "    </tr>\n",
              "    <tr>\n",
              "      <th>1</th>\n",
              "      <td>2</td>\n",
              "      <td>1</td>\n",
              "      <td>1</td>\n",
              "      <td>Cumings, Mrs. John Bradley (Florence Briggs Th...</td>\n",
              "      <td>female</td>\n",
              "      <td>38.0</td>\n",
              "      <td>71.2833</td>\n",
              "      <td>Cherbourg</td>\n",
              "    </tr>\n",
              "    <tr>\n",
              "      <th>0</th>\n",
              "      <td>1</td>\n",
              "      <td>0</td>\n",
              "      <td>3</td>\n",
              "      <td>Braund, Mr. Owen Harris</td>\n",
              "      <td>male</td>\n",
              "      <td>22.0</td>\n",
              "      <td>7.2500</td>\n",
              "      <td>Southhampton</td>\n",
              "    </tr>\n",
              "  </tbody>\n",
              "</table>\n",
              "<p>891 rows × 8 columns</p>\n",
              "</div>"
            ],
            "text/plain": [
              "     PassengerId  Survived  Pclass  ...   Age     Fare      Embarked\n",
              "890          891         0       3  ...  32.0   7.7500    Queenstown\n",
              "889          890         1       1  ...  26.0  30.0000     Cherbourg\n",
              "888          889         0       3  ...   NaN  23.4500  Southhampton\n",
              "887          888         1       1  ...  19.0  30.0000  Southhampton\n",
              "886          887         0       2  ...  27.0  13.0000  Southhampton\n",
              "..           ...       ...     ...  ...   ...      ...           ...\n",
              "4              5         0       3  ...  35.0   8.0500  Southhampton\n",
              "3              4         1       1  ...  35.0  53.1000  Southhampton\n",
              "2              3         1       3  ...  26.0   7.9250  Southhampton\n",
              "1              2         1       1  ...  38.0  71.2833     Cherbourg\n",
              "0              1         0       3  ...  22.0   7.2500  Southhampton\n",
              "\n",
              "[891 rows x 8 columns]"
            ]
          },
          "metadata": {
            "tags": []
          },
          "execution_count": 38
        }
      ]
    },
    {
      "cell_type": "markdown",
      "metadata": {
        "id": "tnxARMlCIJPs"
      },
      "source": [
        "**2) 열 값을 기준으로 정렬**\n",
        "\n",
        "- 하나 또는 여러 열을 기준으로 정렬할 수 있습니다."
      ]
    },
    {
      "cell_type": "code",
      "metadata": {
        "id": "b54Sod9nYnV2",
        "scrolled": false,
        "colab": {
          "base_uri": "https://localhost:8080/",
          "height": 407
        },
        "outputId": "80a1fa3a-77b3-49e7-c482-bfa89e1acdfa"
      },
      "source": [
        "# Fare 열의 값으로 정렬\n",
        "titanic.sort_values(by='Fare', ascending=False)"
      ],
      "execution_count": 39,
      "outputs": [
        {
          "output_type": "execute_result",
          "data": {
            "text/html": [
              "<div>\n",
              "<style scoped>\n",
              "    .dataframe tbody tr th:only-of-type {\n",
              "        vertical-align: middle;\n",
              "    }\n",
              "\n",
              "    .dataframe tbody tr th {\n",
              "        vertical-align: top;\n",
              "    }\n",
              "\n",
              "    .dataframe thead th {\n",
              "        text-align: right;\n",
              "    }\n",
              "</style>\n",
              "<table border=\"1\" class=\"dataframe\">\n",
              "  <thead>\n",
              "    <tr style=\"text-align: right;\">\n",
              "      <th></th>\n",
              "      <th>PassengerId</th>\n",
              "      <th>Survived</th>\n",
              "      <th>Pclass</th>\n",
              "      <th>Name</th>\n",
              "      <th>Sex</th>\n",
              "      <th>Age</th>\n",
              "      <th>Fare</th>\n",
              "      <th>Embarked</th>\n",
              "    </tr>\n",
              "  </thead>\n",
              "  <tbody>\n",
              "    <tr>\n",
              "      <th>258</th>\n",
              "      <td>259</td>\n",
              "      <td>1</td>\n",
              "      <td>1</td>\n",
              "      <td>Ward, Miss. Anna</td>\n",
              "      <td>female</td>\n",
              "      <td>35.0</td>\n",
              "      <td>512.3292</td>\n",
              "      <td>Cherbourg</td>\n",
              "    </tr>\n",
              "    <tr>\n",
              "      <th>737</th>\n",
              "      <td>738</td>\n",
              "      <td>1</td>\n",
              "      <td>1</td>\n",
              "      <td>Lesurer, Mr. Gustave J</td>\n",
              "      <td>male</td>\n",
              "      <td>35.0</td>\n",
              "      <td>512.3292</td>\n",
              "      <td>Cherbourg</td>\n",
              "    </tr>\n",
              "    <tr>\n",
              "      <th>679</th>\n",
              "      <td>680</td>\n",
              "      <td>1</td>\n",
              "      <td>1</td>\n",
              "      <td>Cardeza, Mr. Thomas Drake Martinez</td>\n",
              "      <td>male</td>\n",
              "      <td>36.0</td>\n",
              "      <td>512.3292</td>\n",
              "      <td>Cherbourg</td>\n",
              "    </tr>\n",
              "    <tr>\n",
              "      <th>88</th>\n",
              "      <td>89</td>\n",
              "      <td>1</td>\n",
              "      <td>1</td>\n",
              "      <td>Fortune, Miss. Mabel Helen</td>\n",
              "      <td>female</td>\n",
              "      <td>23.0</td>\n",
              "      <td>263.0000</td>\n",
              "      <td>Southhampton</td>\n",
              "    </tr>\n",
              "    <tr>\n",
              "      <th>27</th>\n",
              "      <td>28</td>\n",
              "      <td>0</td>\n",
              "      <td>1</td>\n",
              "      <td>Fortune, Mr. Charles Alexander</td>\n",
              "      <td>male</td>\n",
              "      <td>19.0</td>\n",
              "      <td>263.0000</td>\n",
              "      <td>Southhampton</td>\n",
              "    </tr>\n",
              "    <tr>\n",
              "      <th>...</th>\n",
              "      <td>...</td>\n",
              "      <td>...</td>\n",
              "      <td>...</td>\n",
              "      <td>...</td>\n",
              "      <td>...</td>\n",
              "      <td>...</td>\n",
              "      <td>...</td>\n",
              "      <td>...</td>\n",
              "    </tr>\n",
              "    <tr>\n",
              "      <th>633</th>\n",
              "      <td>634</td>\n",
              "      <td>0</td>\n",
              "      <td>1</td>\n",
              "      <td>Parr, Mr. William Henry Marsh</td>\n",
              "      <td>male</td>\n",
              "      <td>NaN</td>\n",
              "      <td>0.0000</td>\n",
              "      <td>Southhampton</td>\n",
              "    </tr>\n",
              "    <tr>\n",
              "      <th>413</th>\n",
              "      <td>414</td>\n",
              "      <td>0</td>\n",
              "      <td>2</td>\n",
              "      <td>Cunningham, Mr. Alfred Fleming</td>\n",
              "      <td>male</td>\n",
              "      <td>NaN</td>\n",
              "      <td>0.0000</td>\n",
              "      <td>Southhampton</td>\n",
              "    </tr>\n",
              "    <tr>\n",
              "      <th>822</th>\n",
              "      <td>823</td>\n",
              "      <td>0</td>\n",
              "      <td>1</td>\n",
              "      <td>Reuchlin, Jonkheer. John George</td>\n",
              "      <td>male</td>\n",
              "      <td>38.0</td>\n",
              "      <td>0.0000</td>\n",
              "      <td>Southhampton</td>\n",
              "    </tr>\n",
              "    <tr>\n",
              "      <th>732</th>\n",
              "      <td>733</td>\n",
              "      <td>0</td>\n",
              "      <td>2</td>\n",
              "      <td>Knight, Mr. Robert J</td>\n",
              "      <td>male</td>\n",
              "      <td>NaN</td>\n",
              "      <td>0.0000</td>\n",
              "      <td>Southhampton</td>\n",
              "    </tr>\n",
              "    <tr>\n",
              "      <th>674</th>\n",
              "      <td>675</td>\n",
              "      <td>0</td>\n",
              "      <td>2</td>\n",
              "      <td>Watson, Mr. Ennis Hastings</td>\n",
              "      <td>male</td>\n",
              "      <td>NaN</td>\n",
              "      <td>0.0000</td>\n",
              "      <td>Southhampton</td>\n",
              "    </tr>\n",
              "  </tbody>\n",
              "</table>\n",
              "<p>891 rows × 8 columns</p>\n",
              "</div>"
            ],
            "text/plain": [
              "     PassengerId  Survived  Pclass  ...   Age      Fare      Embarked\n",
              "258          259         1       1  ...  35.0  512.3292     Cherbourg\n",
              "737          738         1       1  ...  35.0  512.3292     Cherbourg\n",
              "679          680         1       1  ...  36.0  512.3292     Cherbourg\n",
              "88            89         1       1  ...  23.0  263.0000  Southhampton\n",
              "27            28         0       1  ...  19.0  263.0000  Southhampton\n",
              "..           ...       ...     ...  ...   ...       ...           ...\n",
              "633          634         0       1  ...   NaN    0.0000  Southhampton\n",
              "413          414         0       2  ...   NaN    0.0000  Southhampton\n",
              "822          823         0       1  ...  38.0    0.0000  Southhampton\n",
              "732          733         0       2  ...   NaN    0.0000  Southhampton\n",
              "674          675         0       2  ...   NaN    0.0000  Southhampton\n",
              "\n",
              "[891 rows x 8 columns]"
            ]
          },
          "metadata": {
            "tags": []
          },
          "execution_count": 39
        }
      ]
    },
    {
      "cell_type": "code",
      "metadata": {
        "id": "YSsGC3B8IJPv",
        "scrolled": false,
        "colab": {
          "base_uri": "https://localhost:8080/",
          "height": 407
        },
        "outputId": "589745f5-bca7-48c5-d30f-2775e33ed64c"
      },
      "source": [
        "# Fare, Age 열의 값으로 정렬\n",
        "titanic.sort_values(by=['Fare', 'Age'], ascending=[False, True])"
      ],
      "execution_count": 40,
      "outputs": [
        {
          "output_type": "execute_result",
          "data": {
            "text/html": [
              "<div>\n",
              "<style scoped>\n",
              "    .dataframe tbody tr th:only-of-type {\n",
              "        vertical-align: middle;\n",
              "    }\n",
              "\n",
              "    .dataframe tbody tr th {\n",
              "        vertical-align: top;\n",
              "    }\n",
              "\n",
              "    .dataframe thead th {\n",
              "        text-align: right;\n",
              "    }\n",
              "</style>\n",
              "<table border=\"1\" class=\"dataframe\">\n",
              "  <thead>\n",
              "    <tr style=\"text-align: right;\">\n",
              "      <th></th>\n",
              "      <th>PassengerId</th>\n",
              "      <th>Survived</th>\n",
              "      <th>Pclass</th>\n",
              "      <th>Name</th>\n",
              "      <th>Sex</th>\n",
              "      <th>Age</th>\n",
              "      <th>Fare</th>\n",
              "      <th>Embarked</th>\n",
              "    </tr>\n",
              "  </thead>\n",
              "  <tbody>\n",
              "    <tr>\n",
              "      <th>258</th>\n",
              "      <td>259</td>\n",
              "      <td>1</td>\n",
              "      <td>1</td>\n",
              "      <td>Ward, Miss. Anna</td>\n",
              "      <td>female</td>\n",
              "      <td>35.0</td>\n",
              "      <td>512.3292</td>\n",
              "      <td>Cherbourg</td>\n",
              "    </tr>\n",
              "    <tr>\n",
              "      <th>737</th>\n",
              "      <td>738</td>\n",
              "      <td>1</td>\n",
              "      <td>1</td>\n",
              "      <td>Lesurer, Mr. Gustave J</td>\n",
              "      <td>male</td>\n",
              "      <td>35.0</td>\n",
              "      <td>512.3292</td>\n",
              "      <td>Cherbourg</td>\n",
              "    </tr>\n",
              "    <tr>\n",
              "      <th>679</th>\n",
              "      <td>680</td>\n",
              "      <td>1</td>\n",
              "      <td>1</td>\n",
              "      <td>Cardeza, Mr. Thomas Drake Martinez</td>\n",
              "      <td>male</td>\n",
              "      <td>36.0</td>\n",
              "      <td>512.3292</td>\n",
              "      <td>Cherbourg</td>\n",
              "    </tr>\n",
              "    <tr>\n",
              "      <th>27</th>\n",
              "      <td>28</td>\n",
              "      <td>0</td>\n",
              "      <td>1</td>\n",
              "      <td>Fortune, Mr. Charles Alexander</td>\n",
              "      <td>male</td>\n",
              "      <td>19.0</td>\n",
              "      <td>263.0000</td>\n",
              "      <td>Southhampton</td>\n",
              "    </tr>\n",
              "    <tr>\n",
              "      <th>88</th>\n",
              "      <td>89</td>\n",
              "      <td>1</td>\n",
              "      <td>1</td>\n",
              "      <td>Fortune, Miss. Mabel Helen</td>\n",
              "      <td>female</td>\n",
              "      <td>23.0</td>\n",
              "      <td>263.0000</td>\n",
              "      <td>Southhampton</td>\n",
              "    </tr>\n",
              "    <tr>\n",
              "      <th>...</th>\n",
              "      <td>...</td>\n",
              "      <td>...</td>\n",
              "      <td>...</td>\n",
              "      <td>...</td>\n",
              "      <td>...</td>\n",
              "      <td>...</td>\n",
              "      <td>...</td>\n",
              "      <td>...</td>\n",
              "    </tr>\n",
              "    <tr>\n",
              "      <th>481</th>\n",
              "      <td>482</td>\n",
              "      <td>0</td>\n",
              "      <td>2</td>\n",
              "      <td>Frost, Mr. Anthony Wood \"Archie\"</td>\n",
              "      <td>male</td>\n",
              "      <td>NaN</td>\n",
              "      <td>0.0000</td>\n",
              "      <td>Southhampton</td>\n",
              "    </tr>\n",
              "    <tr>\n",
              "      <th>633</th>\n",
              "      <td>634</td>\n",
              "      <td>0</td>\n",
              "      <td>1</td>\n",
              "      <td>Parr, Mr. William Henry Marsh</td>\n",
              "      <td>male</td>\n",
              "      <td>NaN</td>\n",
              "      <td>0.0000</td>\n",
              "      <td>Southhampton</td>\n",
              "    </tr>\n",
              "    <tr>\n",
              "      <th>674</th>\n",
              "      <td>675</td>\n",
              "      <td>0</td>\n",
              "      <td>2</td>\n",
              "      <td>Watson, Mr. Ennis Hastings</td>\n",
              "      <td>male</td>\n",
              "      <td>NaN</td>\n",
              "      <td>0.0000</td>\n",
              "      <td>Southhampton</td>\n",
              "    </tr>\n",
              "    <tr>\n",
              "      <th>732</th>\n",
              "      <td>733</td>\n",
              "      <td>0</td>\n",
              "      <td>2</td>\n",
              "      <td>Knight, Mr. Robert J</td>\n",
              "      <td>male</td>\n",
              "      <td>NaN</td>\n",
              "      <td>0.0000</td>\n",
              "      <td>Southhampton</td>\n",
              "    </tr>\n",
              "    <tr>\n",
              "      <th>815</th>\n",
              "      <td>816</td>\n",
              "      <td>0</td>\n",
              "      <td>1</td>\n",
              "      <td>Fry, Mr. Richard</td>\n",
              "      <td>male</td>\n",
              "      <td>NaN</td>\n",
              "      <td>0.0000</td>\n",
              "      <td>Southhampton</td>\n",
              "    </tr>\n",
              "  </tbody>\n",
              "</table>\n",
              "<p>891 rows × 8 columns</p>\n",
              "</div>"
            ],
            "text/plain": [
              "     PassengerId  Survived  Pclass  ...   Age      Fare      Embarked\n",
              "258          259         1       1  ...  35.0  512.3292     Cherbourg\n",
              "737          738         1       1  ...  35.0  512.3292     Cherbourg\n",
              "679          680         1       1  ...  36.0  512.3292     Cherbourg\n",
              "27            28         0       1  ...  19.0  263.0000  Southhampton\n",
              "88            89         1       1  ...  23.0  263.0000  Southhampton\n",
              "..           ...       ...     ...  ...   ...       ...           ...\n",
              "481          482         0       2  ...   NaN    0.0000  Southhampton\n",
              "633          634         0       1  ...   NaN    0.0000  Southhampton\n",
              "674          675         0       2  ...   NaN    0.0000  Southhampton\n",
              "732          733         0       2  ...   NaN    0.0000  Southhampton\n",
              "815          816         0       1  ...   NaN    0.0000  Southhampton\n",
              "\n",
              "[891 rows x 8 columns]"
            ]
          },
          "metadata": {
            "tags": []
          },
          "execution_count": 40
        }
      ]
    },
    {
      "cell_type": "markdown",
      "metadata": {
        "id": "mHrKYYWip4Es"
      },
      "source": [
        "<img src='https://raw.githubusercontent.com/jangrae/img/master/practice_01.png' width=120 align=\"left\"/>"
      ]
    },
    {
      "cell_type": "markdown",
      "metadata": {
        "id": "Xg9shnjoeaTT"
      },
      "source": [
        "[문1] 아래 코드를 실행해서 stock 데이터프레임을 다시 만드세요."
      ]
    },
    {
      "cell_type": "code",
      "metadata": {
        "scrolled": false,
        "id": "uiT7m1oveO6F",
        "colab": {
          "base_uri": "https://localhost:8080/",
          "height": 348
        },
        "outputId": "a633da95-0ba3-4923-a628-d98646bc5a73"
      },
      "source": [
        "# stock 데이터 불러오기\n",
        "file_path = 'https://raw.githubusercontent.com/Jangrae/csv/master/stock.csv'\n",
        "stock = pd.read_csv(file_path, sep = ',', header=0, index_col='Date')  \n",
        "stock.index.name = None\n",
        "\n",
        "# 확인\n",
        "stock.head(10)"
      ],
      "execution_count": 41,
      "outputs": [
        {
          "output_type": "execute_result",
          "data": {
            "text/html": [
              "<div>\n",
              "<style scoped>\n",
              "    .dataframe tbody tr th:only-of-type {\n",
              "        vertical-align: middle;\n",
              "    }\n",
              "\n",
              "    .dataframe tbody tr th {\n",
              "        vertical-align: top;\n",
              "    }\n",
              "\n",
              "    .dataframe thead th {\n",
              "        text-align: right;\n",
              "    }\n",
              "</style>\n",
              "<table border=\"1\" class=\"dataframe\">\n",
              "  <thead>\n",
              "    <tr style=\"text-align: right;\">\n",
              "      <th></th>\n",
              "      <th>High</th>\n",
              "      <th>Low</th>\n",
              "      <th>Open</th>\n",
              "      <th>Close</th>\n",
              "      <th>Volume</th>\n",
              "      <th>Adj Close</th>\n",
              "    </tr>\n",
              "  </thead>\n",
              "  <tbody>\n",
              "    <tr>\n",
              "      <th>2000-01-03</th>\n",
              "      <td>4.017857</td>\n",
              "      <td>3.631696</td>\n",
              "      <td>3.745536</td>\n",
              "      <td>3.997768</td>\n",
              "      <td>133949200</td>\n",
              "      <td>3.470226</td>\n",
              "    </tr>\n",
              "    <tr>\n",
              "      <th>2000-01-04</th>\n",
              "      <td>3.950893</td>\n",
              "      <td>3.613839</td>\n",
              "      <td>3.866071</td>\n",
              "      <td>3.660714</td>\n",
              "      <td>128094400</td>\n",
              "      <td>3.177650</td>\n",
              "    </tr>\n",
              "    <tr>\n",
              "      <th>2000-01-05</th>\n",
              "      <td>3.948661</td>\n",
              "      <td>3.678571</td>\n",
              "      <td>3.705357</td>\n",
              "      <td>3.714286</td>\n",
              "      <td>194580400</td>\n",
              "      <td>3.224152</td>\n",
              "    </tr>\n",
              "    <tr>\n",
              "      <th>2000-01-06</th>\n",
              "      <td>3.821429</td>\n",
              "      <td>3.392857</td>\n",
              "      <td>3.790179</td>\n",
              "      <td>3.392857</td>\n",
              "      <td>191993200</td>\n",
              "      <td>2.945139</td>\n",
              "    </tr>\n",
              "    <tr>\n",
              "      <th>2000-01-07</th>\n",
              "      <td>3.607143</td>\n",
              "      <td>3.410714</td>\n",
              "      <td>3.446429</td>\n",
              "      <td>3.553571</td>\n",
              "      <td>115183600</td>\n",
              "      <td>3.084645</td>\n",
              "    </tr>\n",
              "    <tr>\n",
              "      <th>2000-01-10</th>\n",
              "      <td>3.651786</td>\n",
              "      <td>3.383929</td>\n",
              "      <td>3.642857</td>\n",
              "      <td>3.491071</td>\n",
              "      <td>126266000</td>\n",
              "      <td>3.030393</td>\n",
              "    </tr>\n",
              "    <tr>\n",
              "      <th>2000-01-11</th>\n",
              "      <td>3.549107</td>\n",
              "      <td>3.232143</td>\n",
              "      <td>3.426339</td>\n",
              "      <td>3.312500</td>\n",
              "      <td>110387200</td>\n",
              "      <td>2.875386</td>\n",
              "    </tr>\n",
              "    <tr>\n",
              "      <th>2000-01-12</th>\n",
              "      <td>3.410714</td>\n",
              "      <td>3.089286</td>\n",
              "      <td>3.392857</td>\n",
              "      <td>3.113839</td>\n",
              "      <td>244017200</td>\n",
              "      <td>2.702940</td>\n",
              "    </tr>\n",
              "    <tr>\n",
              "      <th>2000-01-13</th>\n",
              "      <td>3.526786</td>\n",
              "      <td>3.303571</td>\n",
              "      <td>3.374442</td>\n",
              "      <td>3.455357</td>\n",
              "      <td>258171200</td>\n",
              "      <td>2.999391</td>\n",
              "    </tr>\n",
              "    <tr>\n",
              "      <th>2000-01-14</th>\n",
              "      <td>3.651786</td>\n",
              "      <td>3.549107</td>\n",
              "      <td>3.571429</td>\n",
              "      <td>3.587054</td>\n",
              "      <td>97594000</td>\n",
              "      <td>3.113708</td>\n",
              "    </tr>\n",
              "  </tbody>\n",
              "</table>\n",
              "</div>"
            ],
            "text/plain": [
              "                High       Low      Open     Close     Volume  Adj Close\n",
              "2000-01-03  4.017857  3.631696  3.745536  3.997768  133949200   3.470226\n",
              "2000-01-04  3.950893  3.613839  3.866071  3.660714  128094400   3.177650\n",
              "2000-01-05  3.948661  3.678571  3.705357  3.714286  194580400   3.224152\n",
              "2000-01-06  3.821429  3.392857  3.790179  3.392857  191993200   2.945139\n",
              "2000-01-07  3.607143  3.410714  3.446429  3.553571  115183600   3.084645\n",
              "2000-01-10  3.651786  3.383929  3.642857  3.491071  126266000   3.030393\n",
              "2000-01-11  3.549107  3.232143  3.426339  3.312500  110387200   2.875386\n",
              "2000-01-12  3.410714  3.089286  3.392857  3.113839  244017200   2.702940\n",
              "2000-01-13  3.526786  3.303571  3.374442  3.455357  258171200   2.999391\n",
              "2000-01-14  3.651786  3.549107  3.571429  3.587054   97594000   3.113708"
            ]
          },
          "metadata": {
            "tags": []
          },
          "execution_count": 41
        }
      ]
    },
    {
      "cell_type": "markdown",
      "metadata": {
        "id": "tCp5TKDdEj_J"
      },
      "source": [
        "[문2] 인덱스를 기준으로 내림차순 정렬해서 조회하세요."
      ]
    },
    {
      "cell_type": "code",
      "metadata": {
        "id": "HUQb2W5DEj_K",
        "colab": {
          "base_uri": "https://localhost:8080/",
          "height": 407
        },
        "outputId": "21e790e5-29ff-426a-8fdb-2ca9be55329c"
      },
      "source": [
        "# 인덱스를 기준으로 내림차순 정렬\n",
        "stock.sort_index(ascending=False)"
      ],
      "execution_count": 42,
      "outputs": [
        {
          "output_type": "execute_result",
          "data": {
            "text/html": [
              "<div>\n",
              "<style scoped>\n",
              "    .dataframe tbody tr th:only-of-type {\n",
              "        vertical-align: middle;\n",
              "    }\n",
              "\n",
              "    .dataframe tbody tr th {\n",
              "        vertical-align: top;\n",
              "    }\n",
              "\n",
              "    .dataframe thead th {\n",
              "        text-align: right;\n",
              "    }\n",
              "</style>\n",
              "<table border=\"1\" class=\"dataframe\">\n",
              "  <thead>\n",
              "    <tr style=\"text-align: right;\">\n",
              "      <th></th>\n",
              "      <th>High</th>\n",
              "      <th>Low</th>\n",
              "      <th>Open</th>\n",
              "      <th>Close</th>\n",
              "      <th>Volume</th>\n",
              "      <th>Adj Close</th>\n",
              "    </tr>\n",
              "  </thead>\n",
              "  <tbody>\n",
              "    <tr>\n",
              "      <th>2019-12-31</th>\n",
              "      <td>293.679993</td>\n",
              "      <td>289.519989</td>\n",
              "      <td>289.929993</td>\n",
              "      <td>293.649994</td>\n",
              "      <td>25201400</td>\n",
              "      <td>292.954712</td>\n",
              "    </tr>\n",
              "    <tr>\n",
              "      <th>2019-12-30</th>\n",
              "      <td>292.690002</td>\n",
              "      <td>285.220001</td>\n",
              "      <td>289.459992</td>\n",
              "      <td>291.519989</td>\n",
              "      <td>36028600</td>\n",
              "      <td>290.829773</td>\n",
              "    </tr>\n",
              "    <tr>\n",
              "      <th>2019-12-27</th>\n",
              "      <td>293.970001</td>\n",
              "      <td>288.119995</td>\n",
              "      <td>291.119995</td>\n",
              "      <td>289.799988</td>\n",
              "      <td>36566500</td>\n",
              "      <td>289.113831</td>\n",
              "    </tr>\n",
              "    <tr>\n",
              "      <th>2019-12-26</th>\n",
              "      <td>289.980011</td>\n",
              "      <td>284.700012</td>\n",
              "      <td>284.820007</td>\n",
              "      <td>289.910004</td>\n",
              "      <td>23280300</td>\n",
              "      <td>289.223602</td>\n",
              "    </tr>\n",
              "    <tr>\n",
              "      <th>2019-12-24</th>\n",
              "      <td>284.890015</td>\n",
              "      <td>282.920013</td>\n",
              "      <td>284.690002</td>\n",
              "      <td>284.269989</td>\n",
              "      <td>12119700</td>\n",
              "      <td>283.596924</td>\n",
              "    </tr>\n",
              "    <tr>\n",
              "      <th>...</th>\n",
              "      <td>...</td>\n",
              "      <td>...</td>\n",
              "      <td>...</td>\n",
              "      <td>...</td>\n",
              "      <td>...</td>\n",
              "      <td>...</td>\n",
              "    </tr>\n",
              "    <tr>\n",
              "      <th>2000-01-07</th>\n",
              "      <td>3.607143</td>\n",
              "      <td>3.410714</td>\n",
              "      <td>3.446429</td>\n",
              "      <td>3.553571</td>\n",
              "      <td>115183600</td>\n",
              "      <td>3.084645</td>\n",
              "    </tr>\n",
              "    <tr>\n",
              "      <th>2000-01-06</th>\n",
              "      <td>3.821429</td>\n",
              "      <td>3.392857</td>\n",
              "      <td>3.790179</td>\n",
              "      <td>3.392857</td>\n",
              "      <td>191993200</td>\n",
              "      <td>2.945139</td>\n",
              "    </tr>\n",
              "    <tr>\n",
              "      <th>2000-01-05</th>\n",
              "      <td>3.948661</td>\n",
              "      <td>3.678571</td>\n",
              "      <td>3.705357</td>\n",
              "      <td>3.714286</td>\n",
              "      <td>194580400</td>\n",
              "      <td>3.224152</td>\n",
              "    </tr>\n",
              "    <tr>\n",
              "      <th>2000-01-04</th>\n",
              "      <td>3.950893</td>\n",
              "      <td>3.613839</td>\n",
              "      <td>3.866071</td>\n",
              "      <td>3.660714</td>\n",
              "      <td>128094400</td>\n",
              "      <td>3.177650</td>\n",
              "    </tr>\n",
              "    <tr>\n",
              "      <th>2000-01-03</th>\n",
              "      <td>4.017857</td>\n",
              "      <td>3.631696</td>\n",
              "      <td>3.745536</td>\n",
              "      <td>3.997768</td>\n",
              "      <td>133949200</td>\n",
              "      <td>3.470226</td>\n",
              "    </tr>\n",
              "  </tbody>\n",
              "</table>\n",
              "<p>5031 rows × 6 columns</p>\n",
              "</div>"
            ],
            "text/plain": [
              "                  High         Low  ...     Volume   Adj Close\n",
              "2019-12-31  293.679993  289.519989  ...   25201400  292.954712\n",
              "2019-12-30  292.690002  285.220001  ...   36028600  290.829773\n",
              "2019-12-27  293.970001  288.119995  ...   36566500  289.113831\n",
              "2019-12-26  289.980011  284.700012  ...   23280300  289.223602\n",
              "2019-12-24  284.890015  282.920013  ...   12119700  283.596924\n",
              "...                ...         ...  ...        ...         ...\n",
              "2000-01-07    3.607143    3.410714  ...  115183600    3.084645\n",
              "2000-01-06    3.821429    3.392857  ...  191993200    2.945139\n",
              "2000-01-05    3.948661    3.678571  ...  194580400    3.224152\n",
              "2000-01-04    3.950893    3.613839  ...  128094400    3.177650\n",
              "2000-01-03    4.017857    3.631696  ...  133949200    3.470226\n",
              "\n",
              "[5031 rows x 6 columns]"
            ]
          },
          "metadata": {
            "tags": []
          },
          "execution_count": 42
        }
      ]
    },
    {
      "cell_type": "markdown",
      "metadata": {
        "id": "KLWHHG-k9vvV"
      },
      "source": [
        "[문3] Close 열을 기준으로 오름차순 정렬해서 조회하세요."
      ]
    },
    {
      "cell_type": "code",
      "metadata": {
        "id": "wAPdqAeLEj_Q",
        "colab": {
          "base_uri": "https://localhost:8080/",
          "height": 407
        },
        "outputId": "e9bb61fd-4106-479d-bdce-0ab1ae9bce56"
      },
      "source": [
        "# Close 열을 기준으로 오름차순 정렬\n",
        "stock.sort_values(by='Close',ascending=True)"
      ],
      "execution_count": 43,
      "outputs": [
        {
          "output_type": "execute_result",
          "data": {
            "text/html": [
              "<div>\n",
              "<style scoped>\n",
              "    .dataframe tbody tr th:only-of-type {\n",
              "        vertical-align: middle;\n",
              "    }\n",
              "\n",
              "    .dataframe tbody tr th {\n",
              "        vertical-align: top;\n",
              "    }\n",
              "\n",
              "    .dataframe thead th {\n",
              "        text-align: right;\n",
              "    }\n",
              "</style>\n",
              "<table border=\"1\" class=\"dataframe\">\n",
              "  <thead>\n",
              "    <tr style=\"text-align: right;\">\n",
              "      <th></th>\n",
              "      <th>High</th>\n",
              "      <th>Low</th>\n",
              "      <th>Open</th>\n",
              "      <th>Close</th>\n",
              "      <th>Volume</th>\n",
              "      <th>Adj Close</th>\n",
              "    </tr>\n",
              "  </thead>\n",
              "  <tbody>\n",
              "    <tr>\n",
              "      <th>2003-04-17</th>\n",
              "      <td>0.946429</td>\n",
              "      <td>0.908571</td>\n",
              "      <td>0.942857</td>\n",
              "      <td>0.937143</td>\n",
              "      <td>154064400</td>\n",
              "      <td>0.813478</td>\n",
              "    </tr>\n",
              "    <tr>\n",
              "      <th>2003-04-21</th>\n",
              "      <td>0.942143</td>\n",
              "      <td>0.927143</td>\n",
              "      <td>0.937857</td>\n",
              "      <td>0.938571</td>\n",
              "      <td>38080000</td>\n",
              "      <td>0.814718</td>\n",
              "    </tr>\n",
              "    <tr>\n",
              "      <th>2003-04-11</th>\n",
              "      <td>1.031429</td>\n",
              "      <td>0.923571</td>\n",
              "      <td>1.003571</td>\n",
              "      <td>0.942857</td>\n",
              "      <td>348177200</td>\n",
              "      <td>0.818438</td>\n",
              "    </tr>\n",
              "    <tr>\n",
              "      <th>2003-04-16</th>\n",
              "      <td>0.976429</td>\n",
              "      <td>0.922857</td>\n",
              "      <td>0.927857</td>\n",
              "      <td>0.945714</td>\n",
              "      <td>254044000</td>\n",
              "      <td>0.820919</td>\n",
              "    </tr>\n",
              "    <tr>\n",
              "      <th>2003-04-25</th>\n",
              "      <td>0.970000</td>\n",
              "      <td>0.945000</td>\n",
              "      <td>0.961429</td>\n",
              "      <td>0.953571</td>\n",
              "      <td>51329600</td>\n",
              "      <td>0.827739</td>\n",
              "    </tr>\n",
              "    <tr>\n",
              "      <th>...</th>\n",
              "      <td>...</td>\n",
              "      <td>...</td>\n",
              "      <td>...</td>\n",
              "      <td>...</td>\n",
              "      <td>...</td>\n",
              "      <td>...</td>\n",
              "    </tr>\n",
              "    <tr>\n",
              "      <th>2019-12-24</th>\n",
              "      <td>284.890015</td>\n",
              "      <td>282.920013</td>\n",
              "      <td>284.690002</td>\n",
              "      <td>284.269989</td>\n",
              "      <td>12119700</td>\n",
              "      <td>283.596924</td>\n",
              "    </tr>\n",
              "    <tr>\n",
              "      <th>2019-12-27</th>\n",
              "      <td>293.970001</td>\n",
              "      <td>288.119995</td>\n",
              "      <td>291.119995</td>\n",
              "      <td>289.799988</td>\n",
              "      <td>36566500</td>\n",
              "      <td>289.113831</td>\n",
              "    </tr>\n",
              "    <tr>\n",
              "      <th>2019-12-26</th>\n",
              "      <td>289.980011</td>\n",
              "      <td>284.700012</td>\n",
              "      <td>284.820007</td>\n",
              "      <td>289.910004</td>\n",
              "      <td>23280300</td>\n",
              "      <td>289.223602</td>\n",
              "    </tr>\n",
              "    <tr>\n",
              "      <th>2019-12-30</th>\n",
              "      <td>292.690002</td>\n",
              "      <td>285.220001</td>\n",
              "      <td>289.459992</td>\n",
              "      <td>291.519989</td>\n",
              "      <td>36028600</td>\n",
              "      <td>290.829773</td>\n",
              "    </tr>\n",
              "    <tr>\n",
              "      <th>2019-12-31</th>\n",
              "      <td>293.679993</td>\n",
              "      <td>289.519989</td>\n",
              "      <td>289.929993</td>\n",
              "      <td>293.649994</td>\n",
              "      <td>25201400</td>\n",
              "      <td>292.954712</td>\n",
              "    </tr>\n",
              "  </tbody>\n",
              "</table>\n",
              "<p>5031 rows × 6 columns</p>\n",
              "</div>"
            ],
            "text/plain": [
              "                  High         Low  ...     Volume   Adj Close\n",
              "2003-04-17    0.946429    0.908571  ...  154064400    0.813478\n",
              "2003-04-21    0.942143    0.927143  ...   38080000    0.814718\n",
              "2003-04-11    1.031429    0.923571  ...  348177200    0.818438\n",
              "2003-04-16    0.976429    0.922857  ...  254044000    0.820919\n",
              "2003-04-25    0.970000    0.945000  ...   51329600    0.827739\n",
              "...                ...         ...  ...        ...         ...\n",
              "2019-12-24  284.890015  282.920013  ...   12119700  283.596924\n",
              "2019-12-27  293.970001  288.119995  ...   36566500  289.113831\n",
              "2019-12-26  289.980011  284.700012  ...   23280300  289.223602\n",
              "2019-12-30  292.690002  285.220001  ...   36028600  290.829773\n",
              "2019-12-31  293.679993  289.519989  ...   25201400  292.954712\n",
              "\n",
              "[5031 rows x 6 columns]"
            ]
          },
          "metadata": {
            "tags": []
          },
          "execution_count": 43
        }
      ]
    },
    {
      "cell_type": "markdown",
      "metadata": {
        "id": "f-eJyDjygRQD"
      },
      "source": [
        "[문4] Close 열을 기준으로 내림차순 정렬해서 10개 행만 조회하세요."
      ]
    },
    {
      "cell_type": "code",
      "metadata": {
        "id": "07bXPrSNgRQE",
        "colab": {
          "base_uri": "https://localhost:8080/",
          "height": 348
        },
        "outputId": "a229cb98-722e-4965-fecb-9d10e1877c5b"
      },
      "source": [
        "# Close 열을 기준으로 내림차순 정렬\n",
        "stock.sort_values(by='Close',ascending=False).head(10)"
      ],
      "execution_count": 44,
      "outputs": [
        {
          "output_type": "execute_result",
          "data": {
            "text/html": [
              "<div>\n",
              "<style scoped>\n",
              "    .dataframe tbody tr th:only-of-type {\n",
              "        vertical-align: middle;\n",
              "    }\n",
              "\n",
              "    .dataframe tbody tr th {\n",
              "        vertical-align: top;\n",
              "    }\n",
              "\n",
              "    .dataframe thead th {\n",
              "        text-align: right;\n",
              "    }\n",
              "</style>\n",
              "<table border=\"1\" class=\"dataframe\">\n",
              "  <thead>\n",
              "    <tr style=\"text-align: right;\">\n",
              "      <th></th>\n",
              "      <th>High</th>\n",
              "      <th>Low</th>\n",
              "      <th>Open</th>\n",
              "      <th>Close</th>\n",
              "      <th>Volume</th>\n",
              "      <th>Adj Close</th>\n",
              "    </tr>\n",
              "  </thead>\n",
              "  <tbody>\n",
              "    <tr>\n",
              "      <th>2019-12-31</th>\n",
              "      <td>293.679993</td>\n",
              "      <td>289.519989</td>\n",
              "      <td>289.929993</td>\n",
              "      <td>293.649994</td>\n",
              "      <td>25201400</td>\n",
              "      <td>292.954712</td>\n",
              "    </tr>\n",
              "    <tr>\n",
              "      <th>2019-12-30</th>\n",
              "      <td>292.690002</td>\n",
              "      <td>285.220001</td>\n",
              "      <td>289.459992</td>\n",
              "      <td>291.519989</td>\n",
              "      <td>36028600</td>\n",
              "      <td>290.829773</td>\n",
              "    </tr>\n",
              "    <tr>\n",
              "      <th>2019-12-26</th>\n",
              "      <td>289.980011</td>\n",
              "      <td>284.700012</td>\n",
              "      <td>284.820007</td>\n",
              "      <td>289.910004</td>\n",
              "      <td>23280300</td>\n",
              "      <td>289.223602</td>\n",
              "    </tr>\n",
              "    <tr>\n",
              "      <th>2019-12-27</th>\n",
              "      <td>293.970001</td>\n",
              "      <td>288.119995</td>\n",
              "      <td>291.119995</td>\n",
              "      <td>289.799988</td>\n",
              "      <td>36566500</td>\n",
              "      <td>289.113831</td>\n",
              "    </tr>\n",
              "    <tr>\n",
              "      <th>2019-12-24</th>\n",
              "      <td>284.890015</td>\n",
              "      <td>282.920013</td>\n",
              "      <td>284.690002</td>\n",
              "      <td>284.269989</td>\n",
              "      <td>12119700</td>\n",
              "      <td>283.596924</td>\n",
              "    </tr>\n",
              "    <tr>\n",
              "      <th>2019-12-23</th>\n",
              "      <td>284.250000</td>\n",
              "      <td>280.369995</td>\n",
              "      <td>280.529999</td>\n",
              "      <td>284.000000</td>\n",
              "      <td>24643000</td>\n",
              "      <td>283.327576</td>\n",
              "    </tr>\n",
              "    <tr>\n",
              "      <th>2019-12-17</th>\n",
              "      <td>281.769989</td>\n",
              "      <td>278.799988</td>\n",
              "      <td>279.570007</td>\n",
              "      <td>280.410004</td>\n",
              "      <td>28539600</td>\n",
              "      <td>279.746094</td>\n",
              "    </tr>\n",
              "    <tr>\n",
              "      <th>2019-12-19</th>\n",
              "      <td>281.179993</td>\n",
              "      <td>278.950012</td>\n",
              "      <td>279.500000</td>\n",
              "      <td>280.019989</td>\n",
              "      <td>24592300</td>\n",
              "      <td>279.356995</td>\n",
              "    </tr>\n",
              "    <tr>\n",
              "      <th>2019-12-16</th>\n",
              "      <td>280.790008</td>\n",
              "      <td>276.980011</td>\n",
              "      <td>277.000000</td>\n",
              "      <td>279.859985</td>\n",
              "      <td>32046500</td>\n",
              "      <td>279.197357</td>\n",
              "    </tr>\n",
              "    <tr>\n",
              "      <th>2019-12-18</th>\n",
              "      <td>281.899994</td>\n",
              "      <td>279.119995</td>\n",
              "      <td>279.799988</td>\n",
              "      <td>279.739990</td>\n",
              "      <td>29007100</td>\n",
              "      <td>279.077667</td>\n",
              "    </tr>\n",
              "  </tbody>\n",
              "</table>\n",
              "</div>"
            ],
            "text/plain": [
              "                  High         Low  ...    Volume   Adj Close\n",
              "2019-12-31  293.679993  289.519989  ...  25201400  292.954712\n",
              "2019-12-30  292.690002  285.220001  ...  36028600  290.829773\n",
              "2019-12-26  289.980011  284.700012  ...  23280300  289.223602\n",
              "2019-12-27  293.970001  288.119995  ...  36566500  289.113831\n",
              "2019-12-24  284.890015  282.920013  ...  12119700  283.596924\n",
              "2019-12-23  284.250000  280.369995  ...  24643000  283.327576\n",
              "2019-12-17  281.769989  278.799988  ...  28539600  279.746094\n",
              "2019-12-19  281.179993  278.950012  ...  24592300  279.356995\n",
              "2019-12-16  280.790008  276.980011  ...  32046500  279.197357\n",
              "2019-12-18  281.899994  279.119995  ...  29007100  279.077667\n",
              "\n",
              "[10 rows x 6 columns]"
            ]
          },
          "metadata": {
            "tags": []
          },
          "execution_count": 44
        }
      ]
    },
    {
      "cell_type": "markdown",
      "metadata": {
        "id": "po7MS1EwXovc"
      },
      "source": [
        "## 3.4. 기본 집계\n",
        "\n",
        "- 데이터를 좀더 이해하기 위해 고유값, 합, 평균, 최댓값, 최솟값 등을 확인합니다."
      ]
    },
    {
      "cell_type": "markdown",
      "metadata": {
        "id": "DZwznq_YPFcP"
      },
      "source": [
        "### 3.4.1. 고유값 확인\n",
        "\n",
        "- 범주형 열(열이 가진 값이 일정한 값인 경우, 성별, 등급 등)인지 확인할 때 사용합니다."
      ]
    },
    {
      "cell_type": "markdown",
      "metadata": {
        "id": "ZyrGVDBw0iwp"
      },
      "source": [
        "**1) 고유값 확인**\r\n",
        "\r\n",
        "- unique() 메소드로 고유값을 확인하며, 결괏값은 배열 형태가 됩니다."
      ]
    },
    {
      "cell_type": "code",
      "metadata": {
        "id": "A0c6CMhbEpSX",
        "colab": {
          "base_uri": "https://localhost:8080/"
        },
        "outputId": "1d9bbe32-7660-4e50-993c-3db9ffac4d51"
      },
      "source": [
        "# Embarked 열 고유값 확인\n",
        "titanic['Embarked'].unique()"
      ],
      "execution_count": 45,
      "outputs": [
        {
          "output_type": "execute_result",
          "data": {
            "text/plain": [
              "array(['Southhampton', 'Cherbourg', 'Queenstown', nan], dtype=object)"
            ]
          },
          "metadata": {
            "tags": []
          },
          "execution_count": 45
        }
      ]
    },
    {
      "cell_type": "markdown",
      "metadata": {
        "id": "EYT80NSO0H0v"
      },
      "source": [
        "**2) 고유값과 개수 확인**\r\n",
        "\r\n",
        "- value_counts() 메소드로 고유값과 그 개수를 확인하며, 결괏값은 시리즈 형태가 됩니다."
      ]
    },
    {
      "cell_type": "code",
      "metadata": {
        "id": "-Q-y5ii8OnRp",
        "colab": {
          "base_uri": "https://localhost:8080/"
        },
        "outputId": "b80e72e4-ce07-4385-ff80-fe2b96f017b8"
      },
      "source": [
        "# Embarked 열 고유값 개수 확인, NaN 값 제외\n",
        "titanic['Embarked'].value_counts()"
      ],
      "execution_count": 46,
      "outputs": [
        {
          "output_type": "execute_result",
          "data": {
            "text/plain": [
              "Southhampton    644\n",
              "Cherbourg       168\n",
              "Queenstown       77\n",
              "Name: Embarked, dtype: int64"
            ]
          },
          "metadata": {
            "tags": []
          },
          "execution_count": 46
        }
      ]
    },
    {
      "cell_type": "markdown",
      "metadata": {
        "id": "hrByHutszfNH"
      },
      "source": [
        "- dropna=False 옵션을 지정하면 NaN 값 개수도 확인할 수 있습니다."
      ]
    },
    {
      "cell_type": "code",
      "metadata": {
        "id": "PQT-C8GPXS7F",
        "colab": {
          "base_uri": "https://localhost:8080/",
          "height": 348
        },
        "outputId": "ece5fada-509d-4993-fc5d-a4c650afafeb"
      },
      "source": [
        "# Embarked 열 고유값 개수 확인, NaN값 포함\n",
        "titanic['Embarked'].value_counts(dropna=False).plot(kind='bar')"
      ],
      "execution_count": 53,
      "outputs": [
        {
          "output_type": "execute_result",
          "data": {
            "text/plain": [
              "<matplotlib.axes._subplots.AxesSubplot at 0x7f5b012697b8>"
            ]
          },
          "metadata": {
            "tags": []
          },
          "execution_count": 53
        },
        {
          "output_type": "display_data",
          "data": {
            "image/png": "[encoded data removed]",
            "text/plain": [
              "<Figure size 432x288 with 1 Axes>"
            ]
          },
          "metadata": {
            "tags": [],
            "image/png": {
              "width": 375,
              "height": 313
            },
            "needs_background": "light"
          }
        }
      ]
    },
    {
      "cell_type": "code",
      "metadata": {
        "id": "r14W1fvuPQHx",
        "colab": {
          "base_uri": "https://localhost:8080/",
          "height": 280
        },
        "outputId": "c64f7601-8db7-42a5-91fb-2e7941488c00"
      },
      "source": [
        "# Pclass 열 고유값 개수 확인\n",
        "titanic['Pclass'].value_counts(dropna=False).plot(kind='bar')"
      ],
      "execution_count": 52,
      "outputs": [
        {
          "output_type": "execute_result",
          "data": {
            "text/plain": [
              "<matplotlib.axes._subplots.AxesSubplot at 0x7f5b0172d0f0>"
            ]
          },
          "metadata": {
            "tags": []
          },
          "execution_count": 52
        },
        {
          "output_type": "display_data",
          "data": {
            "image/png": "[encoded data removed]",
            "text/plain": [
              "<Figure size 432x288 with 1 Axes>"
            ]
          },
          "metadata": {
            "tags": [],
            "image/png": {
              "width": 375,
              "height": 245
            },
            "needs_background": "light"
          }
        }
      ]
    },
    {
      "cell_type": "markdown",
      "metadata": {
        "id": "imj3o34pP5J3"
      },
      "source": [
        "### 3.4.2. 기본 통계 메소드 사용\n",
        "\n",
        "- 데이터를 1차 집계 한 후 분석을 진행하는 경우가 많으므로 필히 알아두어야 할 내용입니다.\n",
        "- 이후에 배우는 Groupby 기능에서 같이 사용됩니다."
      ]
    },
    {
      "cell_type": "markdown",
      "metadata": {
        "id": "erkdhbRHRCK2"
      },
      "source": [
        "**1) 합, 평균값**"
      ]
    },
    {
      "cell_type": "code",
      "metadata": {
        "id": "4TkxQvh-QFuC",
        "colab": {
          "base_uri": "https://localhost:8080/"
        },
        "outputId": "51a14567-d6ae-49b0-8efd-2e88a64fdb11"
      },
      "source": [
        "# 모든 열 합계 조회\n",
        "titanic.sum()"
      ],
      "execution_count": 49,
      "outputs": [
        {
          "output_type": "execute_result",
          "data": {
            "text/plain": [
              "PassengerId                                               397386\n",
              "Survived                                                     342\n",
              "Pclass                                                      2057\n",
              "Name           Braund, Mr. Owen HarrisCumings, Mrs. John Brad...\n",
              "Sex            malefemalefemalefemalemalemalemalemalefemalefe...\n",
              "Age                                                      21205.2\n",
              "Fare                                                     28693.9\n",
              "dtype: object"
            ]
          },
          "metadata": {
            "tags": []
          },
          "execution_count": 49
        }
      ]
    },
    {
      "cell_type": "code",
      "metadata": {
        "id": "q1dXybktA8i6",
        "colab": {
          "base_uri": "https://localhost:8080/"
        },
        "outputId": "396d89d2-5314-439e-ac40-316ff29952f9"
      },
      "source": [
        "# 모든 열 평균값 조회\n",
        "titanic.mean()"
      ],
      "execution_count": 54,
      "outputs": [
        {
          "output_type": "execute_result",
          "data": {
            "text/plain": [
              "PassengerId    446.000000\n",
              "Survived         0.383838\n",
              "Pclass           2.308642\n",
              "Age             29.699118\n",
              "Fare            32.204208\n",
              "dtype: float64"
            ]
          },
          "metadata": {
            "tags": []
          },
          "execution_count": 54
        }
      ]
    },
    {
      "cell_type": "code",
      "metadata": {
        "id": "gCTaAoghOtFd",
        "colab": {
          "base_uri": "https://localhost:8080/"
        },
        "outputId": "eb620f7d-8886-436a-cb73-b2cda4da333d"
      },
      "source": [
        "# Fare 열 합계 조회\n",
        "titanic['Fare'].sum()"
      ],
      "execution_count": 55,
      "outputs": [
        {
          "output_type": "execute_result",
          "data": {
            "text/plain": [
              "28693.9493"
            ]
          },
          "metadata": {
            "tags": []
          },
          "execution_count": 55
        }
      ]
    },
    {
      "cell_type": "code",
      "metadata": {
        "id": "EN1swYgLBDTI",
        "colab": {
          "base_uri": "https://localhost:8080/"
        },
        "outputId": "4ccfa470-f065-4716-aaaf-2ea43ca76144"
      },
      "source": [
        "# Age, Fare 열 평균값 확인\n",
        "titanic[['Age', 'Fare']].mean()"
      ],
      "execution_count": 56,
      "outputs": [
        {
          "output_type": "execute_result",
          "data": {
            "text/plain": [
              "Age     29.699118\n",
              "Fare    32.204208\n",
              "dtype: float64"
            ]
          },
          "metadata": {
            "tags": []
          },
          "execution_count": 56
        }
      ]
    },
    {
      "cell_type": "markdown",
      "metadata": {
        "id": "fKGAzhyMSki2"
      },
      "source": [
        "**2) 최댓값, 최솟값**"
      ]
    },
    {
      "cell_type": "code",
      "metadata": {
        "id": "3_bkgnbbSrSe",
        "colab": {
          "base_uri": "https://localhost:8080/"
        },
        "outputId": "8cea3a0f-3983-469b-b742-77f6bbb5c4f1"
      },
      "source": [
        "# 모든 열 최댓값 조회\n",
        "titanic.max()"
      ],
      "execution_count": 57,
      "outputs": [
        {
          "output_type": "execute_result",
          "data": {
            "text/plain": [
              "PassengerId                            891\n",
              "Survived                                 1\n",
              "Pclass                                   3\n",
              "Name           van Melkebeke, Mr. Philemon\n",
              "Sex                                   male\n",
              "Age                                     80\n",
              "Fare                               512.329\n",
              "dtype: object"
            ]
          },
          "metadata": {
            "tags": []
          },
          "execution_count": 57
        }
      ]
    },
    {
      "cell_type": "code",
      "metadata": {
        "id": "HW_HYJYWBMxZ",
        "colab": {
          "base_uri": "https://localhost:8080/"
        },
        "outputId": "653aea6c-31f5-4ba4-d59e-c62af51afbf7"
      },
      "source": [
        "# 모든 행 최솟값 조회\n",
        "titanic.min()"
      ],
      "execution_count": 58,
      "outputs": [
        {
          "output_type": "execute_result",
          "data": {
            "text/plain": [
              "PassengerId                      1\n",
              "Survived                         0\n",
              "Pclass                           1\n",
              "Name           Abbing, Mr. Anthony\n",
              "Sex                         female\n",
              "Age                           0.42\n",
              "Fare                             0\n",
              "dtype: object"
            ]
          },
          "metadata": {
            "tags": []
          },
          "execution_count": 58
        }
      ]
    },
    {
      "cell_type": "code",
      "metadata": {
        "id": "uSatNX0BBNpe",
        "colab": {
          "base_uri": "https://localhost:8080/"
        },
        "outputId": "d322c088-0c64-4cd2-d7db-6d5d2cf3d7bc"
      },
      "source": [
        "# Fare 열 최댓값 조회\n",
        "titanic['Fare'].max()"
      ],
      "execution_count": 59,
      "outputs": [
        {
          "output_type": "execute_result",
          "data": {
            "text/plain": [
              "512.3292"
            ]
          },
          "metadata": {
            "tags": []
          },
          "execution_count": 59
        }
      ]
    },
    {
      "cell_type": "code",
      "metadata": {
        "id": "7LIP3lZnBPde",
        "colab": {
          "base_uri": "https://localhost:8080/"
        },
        "outputId": "e42bd0df-bb28-4e1c-cf2f-9754b7eea3a1"
      },
      "source": [
        "# Age, Fare 열 최솟값 조회\n",
        "titanic[['Age', 'Fare']].min()"
      ],
      "execution_count": 60,
      "outputs": [
        {
          "output_type": "execute_result",
          "data": {
            "text/plain": [
              "Age     0.42\n",
              "Fare    0.00\n",
              "dtype: float64"
            ]
          },
          "metadata": {
            "tags": []
          },
          "execution_count": 60
        }
      ]
    },
    {
      "cell_type": "markdown",
      "metadata": {
        "id": "yjlSBuda24wb"
      },
      "source": [
        "**3) 분산, 표준편차, 중앙값**"
      ]
    },
    {
      "cell_type": "code",
      "metadata": {
        "id": "S1_b8XBw24ws",
        "colab": {
          "base_uri": "https://localhost:8080/"
        },
        "outputId": "a0ce1915-6832-4305-a1c9-2fd62ea0067f"
      },
      "source": [
        "# 모든 열 분산 조회\n",
        "titanic.var()"
      ],
      "execution_count": 61,
      "outputs": [
        {
          "output_type": "execute_result",
          "data": {
            "text/plain": [
              "PassengerId    66231.000000\n",
              "Survived           0.236772\n",
              "Pclass             0.699015\n",
              "Age              211.019125\n",
              "Fare            2469.436846\n",
              "dtype: float64"
            ]
          },
          "metadata": {
            "tags": []
          },
          "execution_count": 61
        }
      ]
    },
    {
      "cell_type": "code",
      "metadata": {
        "id": "nS1_Twqw24wt",
        "colab": {
          "base_uri": "https://localhost:8080/"
        },
        "outputId": "8dbc13a4-264f-4965-e430-fecaed9c96d8"
      },
      "source": [
        "# 모든 행 표준편차 조회\n",
        "titanic.std()"
      ],
      "execution_count": 62,
      "outputs": [
        {
          "output_type": "execute_result",
          "data": {
            "text/plain": [
              "PassengerId    257.353842\n",
              "Survived         0.486592\n",
              "Pclass           0.836071\n",
              "Age             14.526497\n",
              "Fare            49.693429\n",
              "dtype: float64"
            ]
          },
          "metadata": {
            "tags": []
          },
          "execution_count": 62
        }
      ]
    },
    {
      "cell_type": "code",
      "metadata": {
        "id": "CLJFJX8v3Ktz",
        "colab": {
          "base_uri": "https://localhost:8080/",
          "height": 335
        },
        "outputId": "311ca332-9dbf-4053-9584-e7bf6ed54663"
      },
      "source": [
        "# 모든 행 중앙값 조회\n",
        "titanic.median().plot(kind='bar')"
      ],
      "execution_count": 65,
      "outputs": [
        {
          "output_type": "execute_result",
          "data": {
            "text/plain": [
              "<matplotlib.axes._subplots.AxesSubplot at 0x7f5b011b30b8>"
            ]
          },
          "metadata": {
            "tags": []
          },
          "execution_count": 65
        },
        {
          "output_type": "display_data",
          "data": {
            "image/png": "[encoded data removed]",
            "text/plain": [
              "<Figure size 432x288 with 1 Axes>"
            ]
          },
          "metadata": {
            "tags": [],
            "image/png": {
              "width": 375,
              "height": 299
            },
            "needs_background": "light"
          }
        }
      ]
    },
    {
      "cell_type": "markdown",
      "metadata": {
        "id": "VgoTa2A3fUcy"
      },
      "source": [
        "## 3.5. 시각화로 데이터 탐색\n",
        "\n",
        "- 숫자로 표시된 정보 보다는 시각화되어 차트로 표시되는 정보가 이해하기 쉽습니다.\n",
        "- 특히 데이터 분포는 시각화해서 확인하는 것이 좋습니다."
      ]
    },
    {
      "cell_type": "markdown",
      "metadata": {
        "id": "ME3X6LSpgcRr"
      },
      "source": [
        "### 3.5.1. 히스토그램\n",
        "\n",
        "- 데이터 분포를 확인하는 가장 대표적인 방법이 히스토그램입니다.\n",
        "- plot() 메소드에 **kind='hist'** 옵션을 설정해 히스토그램을 표시할 수 있습니다."
      ]
    },
    {
      "cell_type": "code",
      "metadata": {
        "id": "AjcUHngh5tCG",
        "colab": {
          "base_uri": "https://localhost:8080/",
          "height": 283
        },
        "outputId": "96cc80c8-10ad-4699-8c6c-3f02582826c6"
      },
      "source": [
        "# Fare 열 데이터 분포 확인\n",
        "titanic.plot(kind='hist', y='Fare')\n",
        "plt.show()"
      ],
      "execution_count": 67,
      "outputs": [
        {
          "output_type": "execute_result",
          "data": {
            "text/plain": [
              "<matplotlib.axes._subplots.AxesSubplot at 0x7f5b010b4d30>"
            ]
          },
          "metadata": {
            "tags": []
          },
          "execution_count": 67
        },
        {
          "output_type": "display_data",
          "data": {
            "image/png": "[encoded data removed]",
            "text/plain": [
              "<Figure size 432x288 with 1 Axes>"
            ]
          },
          "metadata": {
            "tags": [],
            "image/png": {
              "width": 388,
              "height": 248
            },
            "needs_background": "light"
          }
        }
      ]
    },
    {
      "cell_type": "markdown",
      "metadata": {
        "id": "-Rxuyxg0-gR3"
      },
      "source": [
        "- **bins** 옵션을 지정해 좀더 자세한 분포를 확인할 수 있습니다.\n",
        "- bins 옵션 기본값은 10입니다."
      ]
    },
    {
      "cell_type": "code",
      "metadata": {
        "id": "XnM6YoJN-al6",
        "colab": {
          "base_uri": "https://localhost:8080/",
          "height": 265
        },
        "outputId": "06627601-823a-4ad3-94bc-50640dd1cabb"
      },
      "source": [
        "# Fare 열 데이터 분포 확인\n",
        "titanic.plot(kind='hist', y='Fare', bins=20)\n",
        "plt.show()"
      ],
      "execution_count": 68,
      "outputs": [
        {
          "output_type": "display_data",
          "data": {
            "image/png": "[encoded data removed]",
            "text/plain": [
              "<Figure size 432x288 with 1 Axes>"
            ]
          },
          "metadata": {
            "tags": [],
            "image/png": {
              "width": 388,
              "height": 248
            },
            "needs_background": "light"
          }
        }
      ]
    },
    {
      "cell_type": "code",
      "metadata": {
        "id": "bHoruQ_Ls3EE"
      },
      "source": [
        "# bins에 의해 그래프가 달라지므로 일관성이 없다!!!"
      ],
      "execution_count": 69,
      "outputs": []
    },
    {
      "cell_type": "markdown",
      "metadata": {
        "id": "TMwMtiNK-0_Z"
      },
      "source": [
        "<img src='https://raw.githubusercontent.com/jangrae/img/master/practice_01.png' width=120 align=\"left\"/>"
      ]
    },
    {
      "cell_type": "markdown",
      "metadata": {
        "id": "3Uv_dtiW-0_c"
      },
      "source": [
        "[문1] Age 열 데이터 분포를 히스토그램으로 확인하세요."
      ]
    },
    {
      "cell_type": "code",
      "metadata": {
        "scrolled": false,
        "id": "iPCT_iK3-0_e",
        "colab": {
          "base_uri": "https://localhost:8080/",
          "height": 265
        },
        "outputId": "7b855b2e-82ac-4308-c80f-5e47040cbe55"
      },
      "source": [
        "# Age 열 데이터 분포 확인\n",
        "titanic.plot(kind='hist', y='Age', bins=20)\n",
        "plt.show()\n"
      ],
      "execution_count": 71,
      "outputs": [
        {
          "output_type": "display_data",
          "data": {
            "image/png": "[encoded data removed]",
            "text/plain": [
              "<Figure size 432x288 with 1 Axes>"
            ]
          },
          "metadata": {
            "tags": [],
            "image/png": {
              "width": 388,
              "height": 248
            },
            "needs_background": "light"
          }
        }
      ]
    },
    {
      "cell_type": "markdown",
      "metadata": {
        "id": "EO454F6Lgg44"
      },
      "source": [
        "### 3.5.2. 커널밀도추정(kde) 그래프\n",
        "\n",
        "- 히스토그램은 bins 옵션에 따라 표시되는 모양이 달라 일관성이 없습니다.\n",
        "- 이런 이유로 항상 같은 모양을 보이는 kde(커널밀도추정) 그래프를 사용하는 경우가 많습니다.\n",
        "- plot() 메소드에 **kind='kde'** 옵션을 설정해 kde 그래프를 표시할 수 있습니다."
      ]
    },
    {
      "cell_type": "code",
      "metadata": {
        "id": "eNlskYZw_B1n",
        "colab": {
          "base_uri": "https://localhost:8080/",
          "height": 265
        },
        "outputId": "c66721f8-e1a6-431a-a1cf-e657d2722498"
      },
      "source": [
        "# Fare 열 데이터 분포 확인\n",
        "titanic.plot(kind='kde', y='Fare')\n",
        "plt.show()"
      ],
      "execution_count": 72,
      "outputs": [
        {
          "output_type": "display_data",
          "data": {
            "image/png": "[encoded data removed]",
            "text/plain": [
              "<Figure size 432x288 with 1 Axes>"
            ]
          },
          "metadata": {
            "tags": [],
            "image/png": {
              "width": 402,
              "height": 248
            },
            "needs_background": "light"
          }
        }
      ]
    },
    {
      "cell_type": "markdown",
      "metadata": {
        "id": "GXZ5awru_eJp"
      },
      "source": [
        "<img src='https://raw.githubusercontent.com/jangrae/img/master/practice_01.png' width=120 align=\"left\"/>"
      ]
    },
    {
      "cell_type": "markdown",
      "metadata": {
        "id": "XSX1wPN9_eJq"
      },
      "source": [
        "[문1] Age 열 데이터 분포를 kde 그래프로 확인하세요."
      ]
    },
    {
      "cell_type": "code",
      "metadata": {
        "scrolled": false,
        "id": "DwWmFVuz_eJr",
        "colab": {
          "base_uri": "https://localhost:8080/",
          "height": 265
        },
        "outputId": "74714009-ce31-4173-ff86-e9f5dbd7b47b"
      },
      "source": [
        "# Age 열 데이터 분포 확인\n",
        "\n",
        "titanic.plot(kind='kde', y='Age')\n",
        "plt.show()"
      ],
      "execution_count": 73,
      "outputs": [
        {
          "output_type": "display_data",
          "data": {
            "image/png": "[encoded data removed]",
            "text/plain": [
              "<Figure size 432x288 with 1 Axes>"
            ]
          },
          "metadata": {
            "tags": [],
            "image/png": {
              "width": 398,
              "height": 248
            },
            "needs_background": "light"
          }
        }
      ]
    },
    {
      "cell_type": "markdown",
      "metadata": {
        "id": "YfF0mn-igg7x"
      },
      "source": [
        "### 3.5.3. 박스 플롯\n",
        "\n",
        "- 박스 플롯은 다소 낯선 그래프 모양을 보여줍니다.\n",
        "- 하지만 그 어떤 그래프보다 데이터 분포를 상세히 확인할 수 있습니다.\n",
        "- plot() 메소드에 **kind='box'** 옵션을 설정해 박스 플롯을 표시할 수 있습니다."
      ]
    },
    {
      "cell_type": "markdown",
      "metadata": {
        "id": "cnrtrUSeFWWY"
      },
      "source": [
        "**[참고] Box Plot 이해하기**"
      ]
    },
    {
      "cell_type": "markdown",
      "metadata": {
        "id": "mRlyooOuFWWZ"
      },
      "source": [
        "<img src='https://raw.githubusercontent.com/jangrae/img/master/boxplot01.png' align = \"left\" width=360/>"
      ]
    },
    {
      "cell_type": "code",
      "metadata": {
        "id": "Oum8jEsMAAy6",
        "colab": {
          "base_uri": "https://localhost:8080/",
          "height": 591
        },
        "outputId": "ea20da46-4858-4097-adf3-078d365f7b8c"
      },
      "source": [
        "# Fare 열 데이터 분포 확인\n",
        "titanic.plot(kind='box', y='Fare',figsize=(5,10))\n",
        "plt.show()"
      ],
      "execution_count": 76,
      "outputs": [
        {
          "output_type": "display_data",
          "data": {
            "image/png": "[encoded data removed]",
            "text/plain": [
              "<Figure size 360x720 with 1 Axes>"
            ]
          },
          "metadata": {
            "tags": [],
            "image/png": {
              "width": 319,
              "height": 574
            },
            "needs_background": "light"
          }
        }
      ]
    },
    {
      "cell_type": "markdown",
      "metadata": {
        "id": "MLbQ4MMJAN46"
      },
      "source": [
        "<img src='https://raw.githubusercontent.com/jangrae/img/master/practice_01.png' width=120 align=\"left\"/>"
      ]
    },
    {
      "cell_type": "markdown",
      "metadata": {
        "id": "oC9uVXnDAN48"
      },
      "source": [
        "[문1] Age 열 데이터 분포를 박스 플롯으로 확인하세요."
      ]
    },
    {
      "cell_type": "code",
      "metadata": {
        "scrolled": false,
        "id": "fi_YxlsPAN48",
        "colab": {
          "base_uri": "https://localhost:8080/",
          "height": 591
        },
        "outputId": "61a3e8f9-f967-4096-c21e-ec94f764dc7f"
      },
      "source": [
        "# Age 열 데이터 분포 확인\n",
        "\n",
        "titanic.plot(kind='box', y='Age',figsize=(5,10))\n",
        "plt.show()"
      ],
      "execution_count": 77,
      "outputs": [
        {
          "output_type": "display_data",
          "data": {
            "image/png": "[encoded data removed]",
            "text/plain": [
              "<Figure size 360x720 with 1 Axes>"
            ]
          },
          "metadata": {
            "tags": [],
            "image/png": {
              "width": 313,
              "height": 574
            },
            "needs_background": "light"
          }
        }
      ]
    },
    {
      "cell_type": "markdown",
      "metadata": {
        "id": "zPb7_mq4od5p"
      },
      "source": [
        "<center><img src='https://raw.githubusercontent.com/Jangrae/img/master/end.png' width=300/></center>"
      ]
    }
  ]
}